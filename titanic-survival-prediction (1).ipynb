{
 "cells": [
  {
   "cell_type": "markdown",
   "id": "5009740f",
   "metadata": {
    "papermill": {
     "duration": 0.017071,
     "end_time": "2022-09-28T15:54:14.628840",
     "exception": false,
     "start_time": "2022-09-28T15:54:14.611769",
     "status": "completed"
    },
    "tags": []
   },
   "source": [
    "# Exploratory Data Analysis"
   ]
  },
  {
   "cell_type": "markdown",
   "id": "7377b840",
   "metadata": {
    "papermill": {
     "duration": 0.015921,
     "end_time": "2022-09-28T15:54:14.660031",
     "exception": false,
     "start_time": "2022-09-28T15:54:14.644110",
     "status": "completed"
    },
    "tags": []
   },
   "source": [
    "### Three important steps :\n",
    "\n",
    "* Understanding the data\n",
    "* Cleaning the data\n",
    "* Find the relationship between data"
   ]
  },
  {
   "cell_type": "markdown",
   "id": "7bc908a1",
   "metadata": {
    "papermill": {
     "duration": 0.014529,
     "end_time": "2022-09-28T15:54:14.689446",
     "exception": false,
     "start_time": "2022-09-28T15:54:14.674917",
     "status": "completed"
    },
    "tags": []
   },
   "source": [
    "### Importing the libraries"
   ]
  },
  {
   "cell_type": "code",
   "execution_count": 1,
   "id": "1db935fd",
   "metadata": {
    "execution": {
     "iopub.execute_input": "2022-09-28T15:54:14.721356Z",
     "iopub.status.busy": "2022-09-28T15:54:14.720707Z",
     "iopub.status.idle": "2022-09-28T15:54:15.678124Z",
     "shell.execute_reply": "2022-09-28T15:54:15.676903Z"
    },
    "papermill": {
     "duration": 0.976376,
     "end_time": "2022-09-28T15:54:15.680727",
     "exception": false,
     "start_time": "2022-09-28T15:54:14.704351",
     "status": "completed"
    },
    "tags": []
   },
   "outputs": [],
   "source": [
    "import pandas as pd\n",
    "import numpy as np\n",
    "import seaborn as sns\n",
    "import matplotlib.pyplot as plt\n",
    "import math"
   ]
  },
  {
   "cell_type": "markdown",
   "id": "63680e47",
   "metadata": {
    "papermill": {
     "duration": 0.014664,
     "end_time": "2022-09-28T15:54:15.710682",
     "exception": false,
     "start_time": "2022-09-28T15:54:15.696018",
     "status": "completed"
    },
    "tags": []
   },
   "source": [
    "### STEP 1 : Understanding the data"
   ]
  },
  {
   "cell_type": "code",
   "execution_count": 2,
   "id": "b3e1385c",
   "metadata": {
    "execution": {
     "iopub.execute_input": "2022-09-28T15:54:15.742368Z",
     "iopub.status.busy": "2022-09-28T15:54:15.741422Z",
     "iopub.status.idle": "2022-09-28T15:54:15.783364Z",
     "shell.execute_reply": "2022-09-28T15:54:15.782378Z"
    },
    "papermill": {
     "duration": 0.060068,
     "end_time": "2022-09-28T15:54:15.785536",
     "exception": false,
     "start_time": "2022-09-28T15:54:15.725468",
     "status": "completed"
    },
    "tags": []
   },
   "outputs": [
    {
     "data": {
      "text/html": [
       "<div>\n",
       "<style scoped>\n",
       "    .dataframe tbody tr th:only-of-type {\n",
       "        vertical-align: middle;\n",
       "    }\n",
       "\n",
       "    .dataframe tbody tr th {\n",
       "        vertical-align: top;\n",
       "    }\n",
       "\n",
       "    .dataframe thead th {\n",
       "        text-align: right;\n",
       "    }\n",
       "</style>\n",
       "<table border=\"1\" class=\"dataframe\">\n",
       "  <thead>\n",
       "    <tr style=\"text-align: right;\">\n",
       "      <th></th>\n",
       "      <th>PassengerId</th>\n",
       "      <th>Survived</th>\n",
       "      <th>Pclass</th>\n",
       "      <th>Name</th>\n",
       "      <th>Sex</th>\n",
       "      <th>Age</th>\n",
       "      <th>SibSp</th>\n",
       "      <th>Parch</th>\n",
       "      <th>Ticket</th>\n",
       "      <th>Fare</th>\n",
       "      <th>Cabin</th>\n",
       "      <th>Embarked</th>\n",
       "    </tr>\n",
       "  </thead>\n",
       "  <tbody>\n",
       "    <tr>\n",
       "      <th>0</th>\n",
       "      <td>1</td>\n",
       "      <td>0</td>\n",
       "      <td>3</td>\n",
       "      <td>Braund, Mr. Owen Harris</td>\n",
       "      <td>male</td>\n",
       "      <td>22.0</td>\n",
       "      <td>1</td>\n",
       "      <td>0</td>\n",
       "      <td>A/5 21171</td>\n",
       "      <td>7.2500</td>\n",
       "      <td>NaN</td>\n",
       "      <td>S</td>\n",
       "    </tr>\n",
       "    <tr>\n",
       "      <th>1</th>\n",
       "      <td>2</td>\n",
       "      <td>1</td>\n",
       "      <td>1</td>\n",
       "      <td>Cumings, Mrs. John Bradley (Florence Briggs Th...</td>\n",
       "      <td>female</td>\n",
       "      <td>38.0</td>\n",
       "      <td>1</td>\n",
       "      <td>0</td>\n",
       "      <td>PC 17599</td>\n",
       "      <td>71.2833</td>\n",
       "      <td>C85</td>\n",
       "      <td>C</td>\n",
       "    </tr>\n",
       "    <tr>\n",
       "      <th>2</th>\n",
       "      <td>3</td>\n",
       "      <td>1</td>\n",
       "      <td>3</td>\n",
       "      <td>Heikkinen, Miss. Laina</td>\n",
       "      <td>female</td>\n",
       "      <td>26.0</td>\n",
       "      <td>0</td>\n",
       "      <td>0</td>\n",
       "      <td>STON/O2. 3101282</td>\n",
       "      <td>7.9250</td>\n",
       "      <td>NaN</td>\n",
       "      <td>S</td>\n",
       "    </tr>\n",
       "    <tr>\n",
       "      <th>3</th>\n",
       "      <td>4</td>\n",
       "      <td>1</td>\n",
       "      <td>1</td>\n",
       "      <td>Futrelle, Mrs. Jacques Heath (Lily May Peel)</td>\n",
       "      <td>female</td>\n",
       "      <td>35.0</td>\n",
       "      <td>1</td>\n",
       "      <td>0</td>\n",
       "      <td>113803</td>\n",
       "      <td>53.1000</td>\n",
       "      <td>C123</td>\n",
       "      <td>S</td>\n",
       "    </tr>\n",
       "    <tr>\n",
       "      <th>4</th>\n",
       "      <td>5</td>\n",
       "      <td>0</td>\n",
       "      <td>3</td>\n",
       "      <td>Allen, Mr. William Henry</td>\n",
       "      <td>male</td>\n",
       "      <td>35.0</td>\n",
       "      <td>0</td>\n",
       "      <td>0</td>\n",
       "      <td>373450</td>\n",
       "      <td>8.0500</td>\n",
       "      <td>NaN</td>\n",
       "      <td>S</td>\n",
       "    </tr>\n",
       "    <tr>\n",
       "      <th>5</th>\n",
       "      <td>6</td>\n",
       "      <td>0</td>\n",
       "      <td>3</td>\n",
       "      <td>Moran, Mr. James</td>\n",
       "      <td>male</td>\n",
       "      <td>NaN</td>\n",
       "      <td>0</td>\n",
       "      <td>0</td>\n",
       "      <td>330877</td>\n",
       "      <td>8.4583</td>\n",
       "      <td>NaN</td>\n",
       "      <td>Q</td>\n",
       "    </tr>\n",
       "    <tr>\n",
       "      <th>6</th>\n",
       "      <td>7</td>\n",
       "      <td>0</td>\n",
       "      <td>1</td>\n",
       "      <td>McCarthy, Mr. Timothy J</td>\n",
       "      <td>male</td>\n",
       "      <td>54.0</td>\n",
       "      <td>0</td>\n",
       "      <td>0</td>\n",
       "      <td>17463</td>\n",
       "      <td>51.8625</td>\n",
       "      <td>E46</td>\n",
       "      <td>S</td>\n",
       "    </tr>\n",
       "    <tr>\n",
       "      <th>7</th>\n",
       "      <td>8</td>\n",
       "      <td>0</td>\n",
       "      <td>3</td>\n",
       "      <td>Palsson, Master. Gosta Leonard</td>\n",
       "      <td>male</td>\n",
       "      <td>2.0</td>\n",
       "      <td>3</td>\n",
       "      <td>1</td>\n",
       "      <td>349909</td>\n",
       "      <td>21.0750</td>\n",
       "      <td>NaN</td>\n",
       "      <td>S</td>\n",
       "    </tr>\n",
       "    <tr>\n",
       "      <th>8</th>\n",
       "      <td>9</td>\n",
       "      <td>1</td>\n",
       "      <td>3</td>\n",
       "      <td>Johnson, Mrs. Oscar W (Elisabeth Vilhelmina Berg)</td>\n",
       "      <td>female</td>\n",
       "      <td>27.0</td>\n",
       "      <td>0</td>\n",
       "      <td>2</td>\n",
       "      <td>347742</td>\n",
       "      <td>11.1333</td>\n",
       "      <td>NaN</td>\n",
       "      <td>S</td>\n",
       "    </tr>\n",
       "    <tr>\n",
       "      <th>9</th>\n",
       "      <td>10</td>\n",
       "      <td>1</td>\n",
       "      <td>2</td>\n",
       "      <td>Nasser, Mrs. Nicholas (Adele Achem)</td>\n",
       "      <td>female</td>\n",
       "      <td>14.0</td>\n",
       "      <td>1</td>\n",
       "      <td>0</td>\n",
       "      <td>237736</td>\n",
       "      <td>30.0708</td>\n",
       "      <td>NaN</td>\n",
       "      <td>C</td>\n",
       "    </tr>\n",
       "  </tbody>\n",
       "</table>\n",
       "</div>"
      ],
      "text/plain": [
       "   PassengerId  Survived  Pclass  \\\n",
       "0            1         0       3   \n",
       "1            2         1       1   \n",
       "2            3         1       3   \n",
       "3            4         1       1   \n",
       "4            5         0       3   \n",
       "5            6         0       3   \n",
       "6            7         0       1   \n",
       "7            8         0       3   \n",
       "8            9         1       3   \n",
       "9           10         1       2   \n",
       "\n",
       "                                                Name     Sex   Age  SibSp  \\\n",
       "0                            Braund, Mr. Owen Harris    male  22.0      1   \n",
       "1  Cumings, Mrs. John Bradley (Florence Briggs Th...  female  38.0      1   \n",
       "2                             Heikkinen, Miss. Laina  female  26.0      0   \n",
       "3       Futrelle, Mrs. Jacques Heath (Lily May Peel)  female  35.0      1   \n",
       "4                           Allen, Mr. William Henry    male  35.0      0   \n",
       "5                                   Moran, Mr. James    male   NaN      0   \n",
       "6                            McCarthy, Mr. Timothy J    male  54.0      0   \n",
       "7                     Palsson, Master. Gosta Leonard    male   2.0      3   \n",
       "8  Johnson, Mrs. Oscar W (Elisabeth Vilhelmina Berg)  female  27.0      0   \n",
       "9                Nasser, Mrs. Nicholas (Adele Achem)  female  14.0      1   \n",
       "\n",
       "   Parch            Ticket     Fare Cabin Embarked  \n",
       "0      0         A/5 21171   7.2500   NaN        S  \n",
       "1      0          PC 17599  71.2833   C85        C  \n",
       "2      0  STON/O2. 3101282   7.9250   NaN        S  \n",
       "3      0            113803  53.1000  C123        S  \n",
       "4      0            373450   8.0500   NaN        S  \n",
       "5      0            330877   8.4583   NaN        Q  \n",
       "6      0             17463  51.8625   E46        S  \n",
       "7      1            349909  21.0750   NaN        S  \n",
       "8      2            347742  11.1333   NaN        S  \n",
       "9      0            237736  30.0708   NaN        C  "
      ]
     },
     "execution_count": 2,
     "metadata": {},
     "output_type": "execute_result"
    }
   ],
   "source": [
    "\n",
    "data=pd.read_csv('/kaggle/input/titanic/train.csv')\n",
    "data.head(10)\n"
   ]
  },
  {
   "cell_type": "code",
   "execution_count": 3,
   "id": "ff2c1c9f",
   "metadata": {
    "execution": {
     "iopub.execute_input": "2022-09-28T15:54:15.818256Z",
     "iopub.status.busy": "2022-09-28T15:54:15.817890Z",
     "iopub.status.idle": "2022-09-28T15:54:15.832451Z",
     "shell.execute_reply": "2022-09-28T15:54:15.831754Z"
    },
    "papermill": {
     "duration": 0.033025,
     "end_time": "2022-09-28T15:54:15.834257",
     "exception": false,
     "start_time": "2022-09-28T15:54:15.801232",
     "status": "completed"
    },
    "tags": []
   },
   "outputs": [
    {
     "data": {
      "text/html": [
       "<div>\n",
       "<style scoped>\n",
       "    .dataframe tbody tr th:only-of-type {\n",
       "        vertical-align: middle;\n",
       "    }\n",
       "\n",
       "    .dataframe tbody tr th {\n",
       "        vertical-align: top;\n",
       "    }\n",
       "\n",
       "    .dataframe thead th {\n",
       "        text-align: right;\n",
       "    }\n",
       "</style>\n",
       "<table border=\"1\" class=\"dataframe\">\n",
       "  <thead>\n",
       "    <tr style=\"text-align: right;\">\n",
       "      <th></th>\n",
       "      <th>PassengerId</th>\n",
       "      <th>Survived</th>\n",
       "      <th>Pclass</th>\n",
       "      <th>Name</th>\n",
       "      <th>Sex</th>\n",
       "      <th>Age</th>\n",
       "      <th>SibSp</th>\n",
       "      <th>Parch</th>\n",
       "      <th>Ticket</th>\n",
       "      <th>Fare</th>\n",
       "      <th>Cabin</th>\n",
       "      <th>Embarked</th>\n",
       "    </tr>\n",
       "  </thead>\n",
       "  <tbody>\n",
       "    <tr>\n",
       "      <th>886</th>\n",
       "      <td>887</td>\n",
       "      <td>0</td>\n",
       "      <td>2</td>\n",
       "      <td>Montvila, Rev. Juozas</td>\n",
       "      <td>male</td>\n",
       "      <td>27.0</td>\n",
       "      <td>0</td>\n",
       "      <td>0</td>\n",
       "      <td>211536</td>\n",
       "      <td>13.00</td>\n",
       "      <td>NaN</td>\n",
       "      <td>S</td>\n",
       "    </tr>\n",
       "    <tr>\n",
       "      <th>887</th>\n",
       "      <td>888</td>\n",
       "      <td>1</td>\n",
       "      <td>1</td>\n",
       "      <td>Graham, Miss. Margaret Edith</td>\n",
       "      <td>female</td>\n",
       "      <td>19.0</td>\n",
       "      <td>0</td>\n",
       "      <td>0</td>\n",
       "      <td>112053</td>\n",
       "      <td>30.00</td>\n",
       "      <td>B42</td>\n",
       "      <td>S</td>\n",
       "    </tr>\n",
       "    <tr>\n",
       "      <th>888</th>\n",
       "      <td>889</td>\n",
       "      <td>0</td>\n",
       "      <td>3</td>\n",
       "      <td>Johnston, Miss. Catherine Helen \"Carrie\"</td>\n",
       "      <td>female</td>\n",
       "      <td>NaN</td>\n",
       "      <td>1</td>\n",
       "      <td>2</td>\n",
       "      <td>W./C. 6607</td>\n",
       "      <td>23.45</td>\n",
       "      <td>NaN</td>\n",
       "      <td>S</td>\n",
       "    </tr>\n",
       "    <tr>\n",
       "      <th>889</th>\n",
       "      <td>890</td>\n",
       "      <td>1</td>\n",
       "      <td>1</td>\n",
       "      <td>Behr, Mr. Karl Howell</td>\n",
       "      <td>male</td>\n",
       "      <td>26.0</td>\n",
       "      <td>0</td>\n",
       "      <td>0</td>\n",
       "      <td>111369</td>\n",
       "      <td>30.00</td>\n",
       "      <td>C148</td>\n",
       "      <td>C</td>\n",
       "    </tr>\n",
       "    <tr>\n",
       "      <th>890</th>\n",
       "      <td>891</td>\n",
       "      <td>0</td>\n",
       "      <td>3</td>\n",
       "      <td>Dooley, Mr. Patrick</td>\n",
       "      <td>male</td>\n",
       "      <td>32.0</td>\n",
       "      <td>0</td>\n",
       "      <td>0</td>\n",
       "      <td>370376</td>\n",
       "      <td>7.75</td>\n",
       "      <td>NaN</td>\n",
       "      <td>Q</td>\n",
       "    </tr>\n",
       "  </tbody>\n",
       "</table>\n",
       "</div>"
      ],
      "text/plain": [
       "     PassengerId  Survived  Pclass                                      Name  \\\n",
       "886          887         0       2                     Montvila, Rev. Juozas   \n",
       "887          888         1       1              Graham, Miss. Margaret Edith   \n",
       "888          889         0       3  Johnston, Miss. Catherine Helen \"Carrie\"   \n",
       "889          890         1       1                     Behr, Mr. Karl Howell   \n",
       "890          891         0       3                       Dooley, Mr. Patrick   \n",
       "\n",
       "        Sex   Age  SibSp  Parch      Ticket   Fare Cabin Embarked  \n",
       "886    male  27.0      0      0      211536  13.00   NaN        S  \n",
       "887  female  19.0      0      0      112053  30.00   B42        S  \n",
       "888  female   NaN      1      2  W./C. 6607  23.45   NaN        S  \n",
       "889    male  26.0      0      0      111369  30.00  C148        C  \n",
       "890    male  32.0      0      0      370376   7.75   NaN        Q  "
      ]
     },
     "execution_count": 3,
     "metadata": {},
     "output_type": "execute_result"
    }
   ],
   "source": [
    "data.tail()"
   ]
  },
  {
   "cell_type": "code",
   "execution_count": 4,
   "id": "7e1a9428",
   "metadata": {
    "execution": {
     "iopub.execute_input": "2022-09-28T15:54:15.867259Z",
     "iopub.status.busy": "2022-09-28T15:54:15.866727Z",
     "iopub.status.idle": "2022-09-28T15:54:15.871524Z",
     "shell.execute_reply": "2022-09-28T15:54:15.870278Z"
    },
    "papermill": {
     "duration": 0.024119,
     "end_time": "2022-09-28T15:54:15.874010",
     "exception": false,
     "start_time": "2022-09-28T15:54:15.849891",
     "status": "completed"
    },
    "tags": []
   },
   "outputs": [
    {
     "name": "stdout",
     "output_type": "stream",
     "text": [
      "Number of passengers =  891\n"
     ]
    }
   ],
   "source": [
    "# Number of passengers (Collecting Data)\n",
    "print(\"Number of passengers = \",str(len(data.index)))\n",
    "#print(titanic_data['Survived'].sum())\n"
   ]
  },
  {
   "cell_type": "code",
   "execution_count": 5,
   "id": "c26c1088",
   "metadata": {
    "execution": {
     "iopub.execute_input": "2022-09-28T15:54:15.910609Z",
     "iopub.status.busy": "2022-09-28T15:54:15.909411Z",
     "iopub.status.idle": "2022-09-28T15:54:15.934980Z",
     "shell.execute_reply": "2022-09-28T15:54:15.933815Z"
    },
    "papermill": {
     "duration": 0.047642,
     "end_time": "2022-09-28T15:54:15.938356",
     "exception": false,
     "start_time": "2022-09-28T15:54:15.890714",
     "status": "completed"
    },
    "tags": []
   },
   "outputs": [
    {
     "name": "stdout",
     "output_type": "stream",
     "text": [
      "<class 'pandas.core.frame.DataFrame'>\n",
      "RangeIndex: 891 entries, 0 to 890\n",
      "Data columns (total 12 columns):\n",
      " #   Column       Non-Null Count  Dtype  \n",
      "---  ------       --------------  -----  \n",
      " 0   PassengerId  891 non-null    int64  \n",
      " 1   Survived     891 non-null    int64  \n",
      " 2   Pclass       891 non-null    int64  \n",
      " 3   Name         891 non-null    object \n",
      " 4   Sex          891 non-null    object \n",
      " 5   Age          714 non-null    float64\n",
      " 6   SibSp        891 non-null    int64  \n",
      " 7   Parch        891 non-null    int64  \n",
      " 8   Ticket       891 non-null    object \n",
      " 9   Fare         891 non-null    float64\n",
      " 10  Cabin        204 non-null    object \n",
      " 11  Embarked     889 non-null    object \n",
      "dtypes: float64(2), int64(5), object(5)\n",
      "memory usage: 83.7+ KB\n"
     ]
    }
   ],
   "source": [
    "\n",
    "# To get the information about titanic data\n",
    "data.info()\n"
   ]
  },
  {
   "cell_type": "code",
   "execution_count": 6,
   "id": "21501558",
   "metadata": {
    "execution": {
     "iopub.execute_input": "2022-09-28T15:54:15.975434Z",
     "iopub.status.busy": "2022-09-28T15:54:15.975112Z",
     "iopub.status.idle": "2022-09-28T15:54:15.980508Z",
     "shell.execute_reply": "2022-09-28T15:54:15.979699Z"
    },
    "papermill": {
     "duration": 0.024112,
     "end_time": "2022-09-28T15:54:15.982156",
     "exception": false,
     "start_time": "2022-09-28T15:54:15.958044",
     "status": "completed"
    },
    "tags": []
   },
   "outputs": [
    {
     "data": {
      "text/plain": [
       "(891, 12)"
      ]
     },
     "execution_count": 6,
     "metadata": {},
     "output_type": "execute_result"
    }
   ],
   "source": [
    "data.shape"
   ]
  },
  {
   "cell_type": "code",
   "execution_count": 7,
   "id": "b7657457",
   "metadata": {
    "execution": {
     "iopub.execute_input": "2022-09-28T15:54:16.015498Z",
     "iopub.status.busy": "2022-09-28T15:54:16.014908Z",
     "iopub.status.idle": "2022-09-28T15:54:16.044071Z",
     "shell.execute_reply": "2022-09-28T15:54:16.043175Z"
    },
    "papermill": {
     "duration": 0.047956,
     "end_time": "2022-09-28T15:54:16.045888",
     "exception": false,
     "start_time": "2022-09-28T15:54:15.997932",
     "status": "completed"
    },
    "tags": []
   },
   "outputs": [
    {
     "data": {
      "text/html": [
       "<div>\n",
       "<style scoped>\n",
       "    .dataframe tbody tr th:only-of-type {\n",
       "        vertical-align: middle;\n",
       "    }\n",
       "\n",
       "    .dataframe tbody tr th {\n",
       "        vertical-align: top;\n",
       "    }\n",
       "\n",
       "    .dataframe thead th {\n",
       "        text-align: right;\n",
       "    }\n",
       "</style>\n",
       "<table border=\"1\" class=\"dataframe\">\n",
       "  <thead>\n",
       "    <tr style=\"text-align: right;\">\n",
       "      <th></th>\n",
       "      <th>PassengerId</th>\n",
       "      <th>Survived</th>\n",
       "      <th>Pclass</th>\n",
       "      <th>Age</th>\n",
       "      <th>SibSp</th>\n",
       "      <th>Parch</th>\n",
       "      <th>Fare</th>\n",
       "    </tr>\n",
       "  </thead>\n",
       "  <tbody>\n",
       "    <tr>\n",
       "      <th>count</th>\n",
       "      <td>891.000000</td>\n",
       "      <td>891.000000</td>\n",
       "      <td>891.000000</td>\n",
       "      <td>714.000000</td>\n",
       "      <td>891.000000</td>\n",
       "      <td>891.000000</td>\n",
       "      <td>891.000000</td>\n",
       "    </tr>\n",
       "    <tr>\n",
       "      <th>mean</th>\n",
       "      <td>446.000000</td>\n",
       "      <td>0.383838</td>\n",
       "      <td>2.308642</td>\n",
       "      <td>29.699118</td>\n",
       "      <td>0.523008</td>\n",
       "      <td>0.381594</td>\n",
       "      <td>32.204208</td>\n",
       "    </tr>\n",
       "    <tr>\n",
       "      <th>std</th>\n",
       "      <td>257.353842</td>\n",
       "      <td>0.486592</td>\n",
       "      <td>0.836071</td>\n",
       "      <td>14.526497</td>\n",
       "      <td>1.102743</td>\n",
       "      <td>0.806057</td>\n",
       "      <td>49.693429</td>\n",
       "    </tr>\n",
       "    <tr>\n",
       "      <th>min</th>\n",
       "      <td>1.000000</td>\n",
       "      <td>0.000000</td>\n",
       "      <td>1.000000</td>\n",
       "      <td>0.420000</td>\n",
       "      <td>0.000000</td>\n",
       "      <td>0.000000</td>\n",
       "      <td>0.000000</td>\n",
       "    </tr>\n",
       "    <tr>\n",
       "      <th>25%</th>\n",
       "      <td>223.500000</td>\n",
       "      <td>0.000000</td>\n",
       "      <td>2.000000</td>\n",
       "      <td>20.125000</td>\n",
       "      <td>0.000000</td>\n",
       "      <td>0.000000</td>\n",
       "      <td>7.910400</td>\n",
       "    </tr>\n",
       "    <tr>\n",
       "      <th>50%</th>\n",
       "      <td>446.000000</td>\n",
       "      <td>0.000000</td>\n",
       "      <td>3.000000</td>\n",
       "      <td>28.000000</td>\n",
       "      <td>0.000000</td>\n",
       "      <td>0.000000</td>\n",
       "      <td>14.454200</td>\n",
       "    </tr>\n",
       "    <tr>\n",
       "      <th>75%</th>\n",
       "      <td>668.500000</td>\n",
       "      <td>1.000000</td>\n",
       "      <td>3.000000</td>\n",
       "      <td>38.000000</td>\n",
       "      <td>1.000000</td>\n",
       "      <td>0.000000</td>\n",
       "      <td>31.000000</td>\n",
       "    </tr>\n",
       "    <tr>\n",
       "      <th>max</th>\n",
       "      <td>891.000000</td>\n",
       "      <td>1.000000</td>\n",
       "      <td>3.000000</td>\n",
       "      <td>80.000000</td>\n",
       "      <td>8.000000</td>\n",
       "      <td>6.000000</td>\n",
       "      <td>512.329200</td>\n",
       "    </tr>\n",
       "  </tbody>\n",
       "</table>\n",
       "</div>"
      ],
      "text/plain": [
       "       PassengerId    Survived      Pclass         Age       SibSp  \\\n",
       "count   891.000000  891.000000  891.000000  714.000000  891.000000   \n",
       "mean    446.000000    0.383838    2.308642   29.699118    0.523008   \n",
       "std     257.353842    0.486592    0.836071   14.526497    1.102743   \n",
       "min       1.000000    0.000000    1.000000    0.420000    0.000000   \n",
       "25%     223.500000    0.000000    2.000000   20.125000    0.000000   \n",
       "50%     446.000000    0.000000    3.000000   28.000000    0.000000   \n",
       "75%     668.500000    1.000000    3.000000   38.000000    1.000000   \n",
       "max     891.000000    1.000000    3.000000   80.000000    8.000000   \n",
       "\n",
       "            Parch        Fare  \n",
       "count  891.000000  891.000000  \n",
       "mean     0.381594   32.204208  \n",
       "std      0.806057   49.693429  \n",
       "min      0.000000    0.000000  \n",
       "25%      0.000000    7.910400  \n",
       "50%      0.000000   14.454200  \n",
       "75%      0.000000   31.000000  \n",
       "max      6.000000  512.329200  "
      ]
     },
     "execution_count": 7,
     "metadata": {},
     "output_type": "execute_result"
    }
   ],
   "source": [
    "data.describe()"
   ]
  },
  {
   "cell_type": "code",
   "execution_count": 8,
   "id": "65d02c03",
   "metadata": {
    "execution": {
     "iopub.execute_input": "2022-09-28T15:54:16.080513Z",
     "iopub.status.busy": "2022-09-28T15:54:16.079950Z",
     "iopub.status.idle": "2022-09-28T15:54:16.091788Z",
     "shell.execute_reply": "2022-09-28T15:54:16.090944Z"
    },
    "papermill": {
     "duration": 0.031408,
     "end_time": "2022-09-28T15:54:16.093534",
     "exception": false,
     "start_time": "2022-09-28T15:54:16.062126",
     "status": "completed"
    },
    "tags": []
   },
   "outputs": [
    {
     "data": {
      "text/plain": [
       "PassengerId    891\n",
       "Survived         2\n",
       "Pclass           3\n",
       "Name           891\n",
       "Sex              2\n",
       "Age             88\n",
       "SibSp            7\n",
       "Parch            7\n",
       "Ticket         681\n",
       "Fare           248\n",
       "Cabin          147\n",
       "Embarked         3\n",
       "dtype: int64"
      ]
     },
     "execution_count": 8,
     "metadata": {},
     "output_type": "execute_result"
    }
   ],
   "source": [
    "data.nunique()"
   ]
  },
  {
   "cell_type": "code",
   "execution_count": 9,
   "id": "24b8e175",
   "metadata": {
    "execution": {
     "iopub.execute_input": "2022-09-28T15:54:16.128485Z",
     "iopub.status.busy": "2022-09-28T15:54:16.127961Z",
     "iopub.status.idle": "2022-09-28T15:54:16.133449Z",
     "shell.execute_reply": "2022-09-28T15:54:16.132818Z"
    },
    "papermill": {
     "duration": 0.024697,
     "end_time": "2022-09-28T15:54:16.135112",
     "exception": false,
     "start_time": "2022-09-28T15:54:16.110415",
     "status": "completed"
    },
    "tags": []
   },
   "outputs": [
    {
     "data": {
      "text/plain": [
       "Index(['PassengerId', 'Survived', 'Pclass', 'Name', 'Sex', 'Age', 'SibSp',\n",
       "       'Parch', 'Ticket', 'Fare', 'Cabin', 'Embarked'],\n",
       "      dtype='object')"
      ]
     },
     "execution_count": 9,
     "metadata": {},
     "output_type": "execute_result"
    }
   ],
   "source": [
    "data.columns"
   ]
  },
  {
   "cell_type": "markdown",
   "id": "829d98d8",
   "metadata": {
    "papermill": {
     "duration": 0.015962,
     "end_time": "2022-09-28T15:54:16.167410",
     "exception": false,
     "start_time": "2022-09-28T15:54:16.151448",
     "status": "completed"
    },
    "tags": []
   },
   "source": [
    "### STEP 2 : Cleaning the Data"
   ]
  },
  {
   "cell_type": "code",
   "execution_count": 10,
   "id": "fc9dc430",
   "metadata": {
    "execution": {
     "iopub.execute_input": "2022-09-28T15:54:16.202268Z",
     "iopub.status.busy": "2022-09-28T15:54:16.201719Z",
     "iopub.status.idle": "2022-09-28T15:54:16.209481Z",
     "shell.execute_reply": "2022-09-28T15:54:16.208771Z"
    },
    "papermill": {
     "duration": 0.028354,
     "end_time": "2022-09-28T15:54:16.212300",
     "exception": false,
     "start_time": "2022-09-28T15:54:16.183946",
     "status": "completed"
    },
    "tags": []
   },
   "outputs": [
    {
     "data": {
      "text/plain": [
       "PassengerId      0\n",
       "Survived         0\n",
       "Pclass           0\n",
       "Name             0\n",
       "Sex              0\n",
       "Age            177\n",
       "SibSp            0\n",
       "Parch            0\n",
       "Ticket           0\n",
       "Fare             0\n",
       "Cabin          687\n",
       "Embarked         2\n",
       "dtype: int64"
      ]
     },
     "execution_count": 10,
     "metadata": {},
     "output_type": "execute_result"
    }
   ],
   "source": [
    "data.isnull().sum()"
   ]
  },
  {
   "cell_type": "code",
   "execution_count": 11,
   "id": "e9df3fef",
   "metadata": {
    "execution": {
     "iopub.execute_input": "2022-09-28T15:54:16.249419Z",
     "iopub.status.busy": "2022-09-28T15:54:16.248818Z",
     "iopub.status.idle": "2022-09-28T15:54:16.416284Z",
     "shell.execute_reply": "2022-09-28T15:54:16.415340Z"
    },
    "papermill": {
     "duration": 0.188266,
     "end_time": "2022-09-28T15:54:16.418468",
     "exception": false,
     "start_time": "2022-09-28T15:54:16.230202",
     "status": "completed"
    },
    "tags": []
   },
   "outputs": [
    {
     "data": {
      "text/plain": [
       "<AxesSubplot:>"
      ]
     },
     "execution_count": 11,
     "metadata": {},
     "output_type": "execute_result"
    },
    {
     "data": {
      "image/png": "[encoded data removed]",
      "text/plain": [
       "<Figure size 432x288 with 1 Axes>"
      ]
     },
     "metadata": {
      "needs_background": "light"
     },
     "output_type": "display_data"
    }
   ],
   "source": [
    "# Checking the data for no nan values\n",
    "sns.heatmap(data.isnull(),yticklabels=False,cbar=False)\n"
   ]
  },
  {
   "cell_type": "markdown",
   "id": "2dffb01e",
   "metadata": {
    "papermill": {
     "duration": 0.015977,
     "end_time": "2022-09-28T15:54:16.451309",
     "exception": false,
     "start_time": "2022-09-28T15:54:16.435332",
     "status": "completed"
    },
    "tags": []
   },
   "source": [
    "### Removing columns with missing values (cleaning the data)"
   ]
  },
  {
   "cell_type": "code",
   "execution_count": 12,
   "id": "c3486e06",
   "metadata": {
    "execution": {
     "iopub.execute_input": "2022-09-28T15:54:16.485600Z",
     "iopub.status.busy": "2022-09-28T15:54:16.485085Z",
     "iopub.status.idle": "2022-09-28T15:54:16.498980Z",
     "shell.execute_reply": "2022-09-28T15:54:16.498105Z"
    },
    "papermill": {
     "duration": 0.033126,
     "end_time": "2022-09-28T15:54:16.500656",
     "exception": false,
     "start_time": "2022-09-28T15:54:16.467530",
     "status": "completed"
    },
    "tags": []
   },
   "outputs": [
    {
     "data": {
      "text/html": [
       "<div>\n",
       "<style scoped>\n",
       "    .dataframe tbody tr th:only-of-type {\n",
       "        vertical-align: middle;\n",
       "    }\n",
       "\n",
       "    .dataframe tbody tr th {\n",
       "        vertical-align: top;\n",
       "    }\n",
       "\n",
       "    .dataframe thead th {\n",
       "        text-align: right;\n",
       "    }\n",
       "</style>\n",
       "<table border=\"1\" class=\"dataframe\">\n",
       "  <thead>\n",
       "    <tr style=\"text-align: right;\">\n",
       "      <th></th>\n",
       "      <th>Survived</th>\n",
       "      <th>Pclass</th>\n",
       "      <th>Name</th>\n",
       "      <th>Sex</th>\n",
       "      <th>Age</th>\n",
       "      <th>SibSp</th>\n",
       "      <th>Parch</th>\n",
       "      <th>Ticket</th>\n",
       "      <th>Fare</th>\n",
       "      <th>Embarked</th>\n",
       "    </tr>\n",
       "  </thead>\n",
       "  <tbody>\n",
       "    <tr>\n",
       "      <th>0</th>\n",
       "      <td>0</td>\n",
       "      <td>3</td>\n",
       "      <td>Braund, Mr. Owen Harris</td>\n",
       "      <td>male</td>\n",
       "      <td>22.0</td>\n",
       "      <td>1</td>\n",
       "      <td>0</td>\n",
       "      <td>A/5 21171</td>\n",
       "      <td>7.2500</td>\n",
       "      <td>S</td>\n",
       "    </tr>\n",
       "    <tr>\n",
       "      <th>1</th>\n",
       "      <td>1</td>\n",
       "      <td>1</td>\n",
       "      <td>Cumings, Mrs. John Bradley (Florence Briggs Th...</td>\n",
       "      <td>female</td>\n",
       "      <td>38.0</td>\n",
       "      <td>1</td>\n",
       "      <td>0</td>\n",
       "      <td>PC 17599</td>\n",
       "      <td>71.2833</td>\n",
       "      <td>C</td>\n",
       "    </tr>\n",
       "    <tr>\n",
       "      <th>2</th>\n",
       "      <td>1</td>\n",
       "      <td>3</td>\n",
       "      <td>Heikkinen, Miss. Laina</td>\n",
       "      <td>female</td>\n",
       "      <td>26.0</td>\n",
       "      <td>0</td>\n",
       "      <td>0</td>\n",
       "      <td>STON/O2. 3101282</td>\n",
       "      <td>7.9250</td>\n",
       "      <td>S</td>\n",
       "    </tr>\n",
       "    <tr>\n",
       "      <th>3</th>\n",
       "      <td>1</td>\n",
       "      <td>1</td>\n",
       "      <td>Futrelle, Mrs. Jacques Heath (Lily May Peel)</td>\n",
       "      <td>female</td>\n",
       "      <td>35.0</td>\n",
       "      <td>1</td>\n",
       "      <td>0</td>\n",
       "      <td>113803</td>\n",
       "      <td>53.1000</td>\n",
       "      <td>S</td>\n",
       "    </tr>\n",
       "    <tr>\n",
       "      <th>4</th>\n",
       "      <td>0</td>\n",
       "      <td>3</td>\n",
       "      <td>Allen, Mr. William Henry</td>\n",
       "      <td>male</td>\n",
       "      <td>35.0</td>\n",
       "      <td>0</td>\n",
       "      <td>0</td>\n",
       "      <td>373450</td>\n",
       "      <td>8.0500</td>\n",
       "      <td>S</td>\n",
       "    </tr>\n",
       "  </tbody>\n",
       "</table>\n",
       "</div>"
      ],
      "text/plain": [
       "   Survived  Pclass                                               Name  \\\n",
       "0         0       3                            Braund, Mr. Owen Harris   \n",
       "1         1       1  Cumings, Mrs. John Bradley (Florence Briggs Th...   \n",
       "2         1       3                             Heikkinen, Miss. Laina   \n",
       "3         1       1       Futrelle, Mrs. Jacques Heath (Lily May Peel)   \n",
       "4         0       3                           Allen, Mr. William Henry   \n",
       "\n",
       "      Sex   Age  SibSp  Parch            Ticket     Fare Embarked  \n",
       "0    male  22.0      1      0         A/5 21171   7.2500        S  \n",
       "1  female  38.0      1      0          PC 17599  71.2833        C  \n",
       "2  female  26.0      0      0  STON/O2. 3101282   7.9250        S  \n",
       "3  female  35.0      1      0            113803  53.1000        S  \n",
       "4    male  35.0      0      0            373450   8.0500        S  "
      ]
     },
     "execution_count": 12,
     "metadata": {},
     "output_type": "execute_result"
    }
   ],
   "source": [
    "newdata = data.drop(['Cabin','PassengerId'], axis=1)\n",
    "newdata.head()"
   ]
  },
  {
   "cell_type": "code",
   "execution_count": 13,
   "id": "dd32751d",
   "metadata": {
    "execution": {
     "iopub.execute_input": "2022-09-28T15:54:16.536017Z",
     "iopub.status.busy": "2022-09-28T15:54:16.534941Z",
     "iopub.status.idle": "2022-09-28T15:54:16.544194Z",
     "shell.execute_reply": "2022-09-28T15:54:16.543177Z"
    },
    "papermill": {
     "duration": 0.029369,
     "end_time": "2022-09-28T15:54:16.546618",
     "exception": false,
     "start_time": "2022-09-28T15:54:16.517249",
     "status": "completed"
    },
    "tags": []
   },
   "outputs": [
    {
     "data": {
      "text/plain": [
       "Survived      0\n",
       "Pclass        0\n",
       "Name          0\n",
       "Sex           0\n",
       "Age         177\n",
       "SibSp         0\n",
       "Parch         0\n",
       "Ticket        0\n",
       "Fare          0\n",
       "Embarked      2\n",
       "dtype: int64"
      ]
     },
     "execution_count": 13,
     "metadata": {},
     "output_type": "execute_result"
    }
   ],
   "source": [
    "newdata.isnull().sum()"
   ]
  },
  {
   "cell_type": "code",
   "execution_count": 14,
   "id": "ba044e65",
   "metadata": {
    "execution": {
     "iopub.execute_input": "2022-09-28T15:54:16.586092Z",
     "iopub.status.busy": "2022-09-28T15:54:16.585733Z",
     "iopub.status.idle": "2022-09-28T15:54:16.591962Z",
     "shell.execute_reply": "2022-09-28T15:54:16.591198Z"
    },
    "papermill": {
     "duration": 0.029337,
     "end_time": "2022-09-28T15:54:16.594390",
     "exception": false,
     "start_time": "2022-09-28T15:54:16.565053",
     "status": "completed"
    },
    "tags": []
   },
   "outputs": [
    {
     "data": {
      "text/plain": [
       "(891, 10)"
      ]
     },
     "execution_count": 14,
     "metadata": {},
     "output_type": "execute_result"
    }
   ],
   "source": [
    "newdata.shape"
   ]
  },
  {
   "cell_type": "code",
   "execution_count": 15,
   "id": "bc7f1e28",
   "metadata": {
    "execution": {
     "iopub.execute_input": "2022-09-28T15:54:16.639046Z",
     "iopub.status.busy": "2022-09-28T15:54:16.638185Z",
     "iopub.status.idle": "2022-09-28T15:54:16.645964Z",
     "shell.execute_reply": "2022-09-28T15:54:16.645147Z"
    },
    "papermill": {
     "duration": 0.03146,
     "end_time": "2022-09-28T15:54:16.647721",
     "exception": false,
     "start_time": "2022-09-28T15:54:16.616261",
     "status": "completed"
    },
    "tags": []
   },
   "outputs": [
    {
     "data": {
      "text/plain": [
       "(712, 10)"
      ]
     },
     "execution_count": 15,
     "metadata": {},
     "output_type": "execute_result"
    }
   ],
   "source": [
    "newdata.dropna().shape"
   ]
  },
  {
   "cell_type": "code",
   "execution_count": 16,
   "id": "b0d0d69e",
   "metadata": {
    "execution": {
     "iopub.execute_input": "2022-09-28T15:54:16.684639Z",
     "iopub.status.busy": "2022-09-28T15:54:16.684282Z",
     "iopub.status.idle": "2022-09-28T15:54:16.692602Z",
     "shell.execute_reply": "2022-09-28T15:54:16.691629Z"
    },
    "papermill": {
     "duration": 0.028379,
     "end_time": "2022-09-28T15:54:16.694338",
     "exception": false,
     "start_time": "2022-09-28T15:54:16.665959",
     "status": "completed"
    },
    "tags": []
   },
   "outputs": [],
   "source": [
    "newdata = newdata.dropna()"
   ]
  },
  {
   "cell_type": "code",
   "execution_count": 17,
   "id": "2a60fe13",
   "metadata": {
    "execution": {
     "iopub.execute_input": "2022-09-28T15:54:16.730097Z",
     "iopub.status.busy": "2022-09-28T15:54:16.729741Z",
     "iopub.status.idle": "2022-09-28T15:54:16.737569Z",
     "shell.execute_reply": "2022-09-28T15:54:16.736888Z"
    },
    "papermill": {
     "duration": 0.027947,
     "end_time": "2022-09-28T15:54:16.739156",
     "exception": false,
     "start_time": "2022-09-28T15:54:16.711209",
     "status": "completed"
    },
    "tags": []
   },
   "outputs": [
    {
     "data": {
      "text/plain": [
       "Survived    0\n",
       "Pclass      0\n",
       "Name        0\n",
       "Sex         0\n",
       "Age         0\n",
       "SibSp       0\n",
       "Parch       0\n",
       "Ticket      0\n",
       "Fare        0\n",
       "Embarked    0\n",
       "dtype: int64"
      ]
     },
     "execution_count": 17,
     "metadata": {},
     "output_type": "execute_result"
    }
   ],
   "source": [
    "newdata.isnull().sum()"
   ]
  },
  {
   "cell_type": "code",
   "execution_count": 18,
   "id": "8438fbdf",
   "metadata": {
    "execution": {
     "iopub.execute_input": "2022-09-28T15:54:16.775765Z",
     "iopub.status.busy": "2022-09-28T15:54:16.775229Z",
     "iopub.status.idle": "2022-09-28T15:54:16.887064Z",
     "shell.execute_reply": "2022-09-28T15:54:16.886298Z"
    },
    "papermill": {
     "duration": 0.132411,
     "end_time": "2022-09-28T15:54:16.889032",
     "exception": false,
     "start_time": "2022-09-28T15:54:16.756621",
     "status": "completed"
    },
    "tags": []
   },
   "outputs": [
    {
     "data": {
      "text/plain": [
       "<AxesSubplot:>"
      ]
     },
     "execution_count": 18,
     "metadata": {},
     "output_type": "execute_result"
    },
    {
     "data": {
      "image/png": "[encoded data removed]",
      "text/plain": [
       "<Figure size 432x288 with 1 Axes>"
      ]
     },
     "metadata": {
      "needs_background": "light"
     },
     "output_type": "display_data"
    }
   ],
   "source": [
    "# Checking the data for no nan values\n",
    "sns.heatmap(newdata.isnull(),yticklabels=False,cbar=False)\n"
   ]
  },
  {
   "cell_type": "code",
   "execution_count": 19,
   "id": "bdc096ad",
   "metadata": {
    "execution": {
     "iopub.execute_input": "2022-09-28T15:54:16.932317Z",
     "iopub.status.busy": "2022-09-28T15:54:16.931766Z",
     "iopub.status.idle": "2022-09-28T15:54:16.939184Z",
     "shell.execute_reply": "2022-09-28T15:54:16.937792Z"
    },
    "papermill": {
     "duration": 0.028345,
     "end_time": "2022-09-28T15:54:16.941140",
     "exception": false,
     "start_time": "2022-09-28T15:54:16.912795",
     "status": "completed"
    },
    "tags": []
   },
   "outputs": [
    {
     "data": {
      "text/plain": [
       "male      453\n",
       "female    259\n",
       "Name: Sex, dtype: int64"
      ]
     },
     "execution_count": 19,
     "metadata": {},
     "output_type": "execute_result"
    }
   ],
   "source": [
    "newdata['Sex'].value_counts()"
   ]
  },
  {
   "cell_type": "code",
   "execution_count": 20,
   "id": "750b240e",
   "metadata": {
    "execution": {
     "iopub.execute_input": "2022-09-28T15:54:16.977630Z",
     "iopub.status.busy": "2022-09-28T15:54:16.977096Z",
     "iopub.status.idle": "2022-09-28T15:54:16.999793Z",
     "shell.execute_reply": "2022-09-28T15:54:16.998817Z"
    },
    "papermill": {
     "duration": 0.043244,
     "end_time": "2022-09-28T15:54:17.001772",
     "exception": false,
     "start_time": "2022-09-28T15:54:16.958528",
     "status": "completed"
    },
    "tags": []
   },
   "outputs": [
    {
     "data": {
      "text/html": [
       "<div>\n",
       "<style scoped>\n",
       "    .dataframe tbody tr th:only-of-type {\n",
       "        vertical-align: middle;\n",
       "    }\n",
       "\n",
       "    .dataframe tbody tr th {\n",
       "        vertical-align: top;\n",
       "    }\n",
       "\n",
       "    .dataframe thead th {\n",
       "        text-align: right;\n",
       "    }\n",
       "</style>\n",
       "<table border=\"1\" class=\"dataframe\">\n",
       "  <thead>\n",
       "    <tr style=\"text-align: right;\">\n",
       "      <th></th>\n",
       "      <th>Survived</th>\n",
       "      <th>Pclass</th>\n",
       "      <th>Age</th>\n",
       "      <th>SibSp</th>\n",
       "      <th>Parch</th>\n",
       "      <th>Fare</th>\n",
       "    </tr>\n",
       "  </thead>\n",
       "  <tbody>\n",
       "    <tr>\n",
       "      <th>count</th>\n",
       "      <td>712.000000</td>\n",
       "      <td>712.000000</td>\n",
       "      <td>712.000000</td>\n",
       "      <td>712.000000</td>\n",
       "      <td>712.000000</td>\n",
       "      <td>712.000000</td>\n",
       "    </tr>\n",
       "    <tr>\n",
       "      <th>mean</th>\n",
       "      <td>0.404494</td>\n",
       "      <td>2.240169</td>\n",
       "      <td>29.642093</td>\n",
       "      <td>0.514045</td>\n",
       "      <td>0.432584</td>\n",
       "      <td>34.567251</td>\n",
       "    </tr>\n",
       "    <tr>\n",
       "      <th>std</th>\n",
       "      <td>0.491139</td>\n",
       "      <td>0.836854</td>\n",
       "      <td>14.492933</td>\n",
       "      <td>0.930692</td>\n",
       "      <td>0.854181</td>\n",
       "      <td>52.938648</td>\n",
       "    </tr>\n",
       "    <tr>\n",
       "      <th>min</th>\n",
       "      <td>0.000000</td>\n",
       "      <td>1.000000</td>\n",
       "      <td>0.420000</td>\n",
       "      <td>0.000000</td>\n",
       "      <td>0.000000</td>\n",
       "      <td>0.000000</td>\n",
       "    </tr>\n",
       "    <tr>\n",
       "      <th>25%</th>\n",
       "      <td>0.000000</td>\n",
       "      <td>1.000000</td>\n",
       "      <td>20.000000</td>\n",
       "      <td>0.000000</td>\n",
       "      <td>0.000000</td>\n",
       "      <td>8.050000</td>\n",
       "    </tr>\n",
       "    <tr>\n",
       "      <th>50%</th>\n",
       "      <td>0.000000</td>\n",
       "      <td>2.000000</td>\n",
       "      <td>28.000000</td>\n",
       "      <td>0.000000</td>\n",
       "      <td>0.000000</td>\n",
       "      <td>15.645850</td>\n",
       "    </tr>\n",
       "    <tr>\n",
       "      <th>75%</th>\n",
       "      <td>1.000000</td>\n",
       "      <td>3.000000</td>\n",
       "      <td>38.000000</td>\n",
       "      <td>1.000000</td>\n",
       "      <td>1.000000</td>\n",
       "      <td>33.000000</td>\n",
       "    </tr>\n",
       "    <tr>\n",
       "      <th>max</th>\n",
       "      <td>1.000000</td>\n",
       "      <td>3.000000</td>\n",
       "      <td>80.000000</td>\n",
       "      <td>5.000000</td>\n",
       "      <td>6.000000</td>\n",
       "      <td>512.329200</td>\n",
       "    </tr>\n",
       "  </tbody>\n",
       "</table>\n",
       "</div>"
      ],
      "text/plain": [
       "         Survived      Pclass         Age       SibSp       Parch        Fare\n",
       "count  712.000000  712.000000  712.000000  712.000000  712.000000  712.000000\n",
       "mean     0.404494    2.240169   29.642093    0.514045    0.432584   34.567251\n",
       "std      0.491139    0.836854   14.492933    0.930692    0.854181   52.938648\n",
       "min      0.000000    1.000000    0.420000    0.000000    0.000000    0.000000\n",
       "25%      0.000000    1.000000   20.000000    0.000000    0.000000    8.050000\n",
       "50%      0.000000    2.000000   28.000000    0.000000    0.000000   15.645850\n",
       "75%      1.000000    3.000000   38.000000    1.000000    1.000000   33.000000\n",
       "max      1.000000    3.000000   80.000000    5.000000    6.000000  512.329200"
      ]
     },
     "execution_count": 20,
     "metadata": {},
     "output_type": "execute_result"
    }
   ],
   "source": [
    "newdata.describe()"
   ]
  },
  {
   "cell_type": "markdown",
   "id": "e7161c2d",
   "metadata": {
    "papermill": {
     "duration": 0.017591,
     "end_time": "2022-09-28T15:54:17.037347",
     "exception": false,
     "start_time": "2022-09-28T15:54:17.019756",
     "status": "completed"
    },
    "tags": []
   },
   "source": [
    "### Checking for outliers"
   ]
  },
  {
   "cell_type": "code",
   "execution_count": 21,
   "id": "4e7c34be",
   "metadata": {
    "execution": {
     "iopub.execute_input": "2022-09-28T15:54:17.074256Z",
     "iopub.status.busy": "2022-09-28T15:54:17.073461Z",
     "iopub.status.idle": "2022-09-28T15:54:17.079565Z",
     "shell.execute_reply": "2022-09-28T15:54:17.078100Z"
    },
    "papermill": {
     "duration": 0.026353,
     "end_time": "2022-09-28T15:54:17.081292",
     "exception": false,
     "start_time": "2022-09-28T15:54:17.054939",
     "status": "completed"
    },
    "tags": []
   },
   "outputs": [
    {
     "data": {
      "text/plain": [
       "Index(['Survived', 'Pclass', 'Name', 'Sex', 'Age', 'SibSp', 'Parch', 'Ticket',\n",
       "       'Fare', 'Embarked'],\n",
       "      dtype='object')"
      ]
     },
     "execution_count": 21,
     "metadata": {},
     "output_type": "execute_result"
    }
   ],
   "source": [
    "newdata.columns"
   ]
  },
  {
   "cell_type": "code",
   "execution_count": 22,
   "id": "d085177e",
   "metadata": {
    "execution": {
     "iopub.execute_input": "2022-09-28T15:54:17.118602Z",
     "iopub.status.busy": "2022-09-28T15:54:17.118028Z",
     "iopub.status.idle": "2022-09-28T15:54:17.242120Z",
     "shell.execute_reply": "2022-09-28T15:54:17.241387Z"
    },
    "papermill": {
     "duration": 0.144907,
     "end_time": "2022-09-28T15:54:17.244007",
     "exception": false,
     "start_time": "2022-09-28T15:54:17.099100",
     "status": "completed"
    },
    "tags": []
   },
   "outputs": [
    {
     "data": {
      "text/plain": [
       "<AxesSubplot:xlabel='Sex', ylabel='Age'>"
      ]
     },
     "execution_count": 22,
     "metadata": {},
     "output_type": "execute_result"
    },
    {
     "data": {
      "image/png": "[encoded data removed]",
      "text/plain": [
       "<Figure size 432x288 with 1 Axes>"
      ]
     },
     "metadata": {
      "needs_background": "light"
     },
     "output_type": "display_data"
    }
   ],
   "source": [
    "sns.boxplot(x ='Sex', y='Age', data=newdata)"
   ]
  },
  {
   "cell_type": "code",
   "execution_count": 23,
   "id": "f1faf2c6",
   "metadata": {
    "execution": {
     "iopub.execute_input": "2022-09-28T15:54:17.288646Z",
     "iopub.status.busy": "2022-09-28T15:54:17.288118Z",
     "iopub.status.idle": "2022-09-28T15:54:17.466071Z",
     "shell.execute_reply": "2022-09-28T15:54:17.465059Z"
    },
    "papermill": {
     "duration": 0.20023,
     "end_time": "2022-09-28T15:54:17.468003",
     "exception": false,
     "start_time": "2022-09-28T15:54:17.267773",
     "status": "completed"
    },
    "tags": []
   },
   "outputs": [
    {
     "name": "stderr",
     "output_type": "stream",
     "text": [
      "/opt/conda/lib/python3.7/site-packages/seaborn/distributions.py:2619: FutureWarning: `distplot` is a deprecated function and will be removed in a future version. Please adapt your code to use either `displot` (a figure-level function with similar flexibility) or `histplot` (an axes-level function for histograms).\n",
      "  warnings.warn(msg, FutureWarning)\n"
     ]
    },
    {
     "data": {
      "text/plain": [
       "<AxesSubplot:xlabel='Age', ylabel='Density'>"
      ]
     },
     "execution_count": 23,
     "metadata": {},
     "output_type": "execute_result"
    },
    {
     "data": {
      "image/png": "[encoded data removed]",
      "text/plain": [
       "<Figure size 432x288 with 1 Axes>"
      ]
     },
     "metadata": {
      "needs_background": "light"
     },
     "output_type": "display_data"
    }
   ],
   "source": [
    "sns.distplot(newdata['Age'])"
   ]
  },
  {
   "cell_type": "markdown",
   "id": "15cb0eb3",
   "metadata": {
    "papermill": {
     "duration": 0.018894,
     "end_time": "2022-09-28T15:54:17.505859",
     "exception": false,
     "start_time": "2022-09-28T15:54:17.486965",
     "status": "completed"
    },
    "tags": []
   },
   "source": [
    "### Removing the outliers\n"
   ]
  },
  {
   "cell_type": "code",
   "execution_count": 24,
   "id": "24896b02",
   "metadata": {
    "execution": {
     "iopub.execute_input": "2022-09-28T15:54:17.546366Z",
     "iopub.status.busy": "2022-09-28T15:54:17.546019Z",
     "iopub.status.idle": "2022-09-28T15:54:17.552234Z",
     "shell.execute_reply": "2022-09-28T15:54:17.551245Z"
    },
    "papermill": {
     "duration": 0.028327,
     "end_time": "2022-09-28T15:54:17.554017",
     "exception": false,
     "start_time": "2022-09-28T15:54:17.525690",
     "status": "completed"
    },
    "tags": []
   },
   "outputs": [
    {
     "data": {
      "text/plain": [
       "29.64209269662921"
      ]
     },
     "execution_count": 24,
     "metadata": {},
     "output_type": "execute_result"
    }
   ],
   "source": [
    "newdata['Age'].mean()"
   ]
  },
  {
   "cell_type": "code",
   "execution_count": 25,
   "id": "efdc7dc9",
   "metadata": {
    "execution": {
     "iopub.execute_input": "2022-09-28T15:54:17.593428Z",
     "iopub.status.busy": "2022-09-28T15:54:17.593074Z",
     "iopub.status.idle": "2022-09-28T15:54:17.602156Z",
     "shell.execute_reply": "2022-09-28T15:54:17.600945Z"
    },
    "papermill": {
     "duration": 0.031538,
     "end_time": "2022-09-28T15:54:17.604551",
     "exception": false,
     "start_time": "2022-09-28T15:54:17.573013",
     "status": "completed"
    },
    "tags": []
   },
   "outputs": [
    {
     "data": {
      "text/plain": [
       "0.9901685393258427"
      ]
     },
     "execution_count": 25,
     "metadata": {},
     "output_type": "execute_result"
    }
   ],
   "source": [
    "data['Age'] = newdata['Age'] < 69\n",
    "data['Age'].mean()\n"
   ]
  },
  {
   "cell_type": "code",
   "execution_count": 26,
   "id": "6a3b236e",
   "metadata": {
    "execution": {
     "iopub.execute_input": "2022-09-28T15:54:17.643553Z",
     "iopub.status.busy": "2022-09-28T15:54:17.643200Z",
     "iopub.status.idle": "2022-09-28T15:54:17.657978Z",
     "shell.execute_reply": "2022-09-28T15:54:17.656799Z"
    },
    "papermill": {
     "duration": 0.036606,
     "end_time": "2022-09-28T15:54:17.659859",
     "exception": false,
     "start_time": "2022-09-28T15:54:17.623253",
     "status": "completed"
    },
    "tags": []
   },
   "outputs": [
    {
     "data": {
      "text/html": [
       "<div>\n",
       "<style scoped>\n",
       "    .dataframe tbody tr th:only-of-type {\n",
       "        vertical-align: middle;\n",
       "    }\n",
       "\n",
       "    .dataframe tbody tr th {\n",
       "        vertical-align: top;\n",
       "    }\n",
       "\n",
       "    .dataframe thead th {\n",
       "        text-align: right;\n",
       "    }\n",
       "</style>\n",
       "<table border=\"1\" class=\"dataframe\">\n",
       "  <thead>\n",
       "    <tr style=\"text-align: right;\">\n",
       "      <th></th>\n",
       "      <th>Survived</th>\n",
       "      <th>Pclass</th>\n",
       "      <th>Name</th>\n",
       "      <th>Sex</th>\n",
       "      <th>Age</th>\n",
       "      <th>SibSp</th>\n",
       "      <th>Parch</th>\n",
       "      <th>Ticket</th>\n",
       "      <th>Fare</th>\n",
       "      <th>Embarked</th>\n",
       "    </tr>\n",
       "  </thead>\n",
       "  <tbody>\n",
       "    <tr>\n",
       "      <th>0</th>\n",
       "      <td>0</td>\n",
       "      <td>3</td>\n",
       "      <td>Braund, Mr. Owen Harris</td>\n",
       "      <td>male</td>\n",
       "      <td>22.0</td>\n",
       "      <td>1</td>\n",
       "      <td>0</td>\n",
       "      <td>A/5 21171</td>\n",
       "      <td>7.2500</td>\n",
       "      <td>S</td>\n",
       "    </tr>\n",
       "    <tr>\n",
       "      <th>1</th>\n",
       "      <td>1</td>\n",
       "      <td>1</td>\n",
       "      <td>Cumings, Mrs. John Bradley (Florence Briggs Th...</td>\n",
       "      <td>female</td>\n",
       "      <td>38.0</td>\n",
       "      <td>1</td>\n",
       "      <td>0</td>\n",
       "      <td>PC 17599</td>\n",
       "      <td>71.2833</td>\n",
       "      <td>C</td>\n",
       "    </tr>\n",
       "    <tr>\n",
       "      <th>2</th>\n",
       "      <td>1</td>\n",
       "      <td>3</td>\n",
       "      <td>Heikkinen, Miss. Laina</td>\n",
       "      <td>female</td>\n",
       "      <td>26.0</td>\n",
       "      <td>0</td>\n",
       "      <td>0</td>\n",
       "      <td>STON/O2. 3101282</td>\n",
       "      <td>7.9250</td>\n",
       "      <td>S</td>\n",
       "    </tr>\n",
       "    <tr>\n",
       "      <th>3</th>\n",
       "      <td>1</td>\n",
       "      <td>1</td>\n",
       "      <td>Futrelle, Mrs. Jacques Heath (Lily May Peel)</td>\n",
       "      <td>female</td>\n",
       "      <td>35.0</td>\n",
       "      <td>1</td>\n",
       "      <td>0</td>\n",
       "      <td>113803</td>\n",
       "      <td>53.1000</td>\n",
       "      <td>S</td>\n",
       "    </tr>\n",
       "    <tr>\n",
       "      <th>4</th>\n",
       "      <td>0</td>\n",
       "      <td>3</td>\n",
       "      <td>Allen, Mr. William Henry</td>\n",
       "      <td>male</td>\n",
       "      <td>35.0</td>\n",
       "      <td>0</td>\n",
       "      <td>0</td>\n",
       "      <td>373450</td>\n",
       "      <td>8.0500</td>\n",
       "      <td>S</td>\n",
       "    </tr>\n",
       "  </tbody>\n",
       "</table>\n",
       "</div>"
      ],
      "text/plain": [
       "   Survived  Pclass                                               Name  \\\n",
       "0         0       3                            Braund, Mr. Owen Harris   \n",
       "1         1       1  Cumings, Mrs. John Bradley (Florence Briggs Th...   \n",
       "2         1       3                             Heikkinen, Miss. Laina   \n",
       "3         1       1       Futrelle, Mrs. Jacques Heath (Lily May Peel)   \n",
       "4         0       3                           Allen, Mr. William Henry   \n",
       "\n",
       "      Sex   Age  SibSp  Parch            Ticket     Fare Embarked  \n",
       "0    male  22.0      1      0         A/5 21171   7.2500        S  \n",
       "1  female  38.0      1      0          PC 17599  71.2833        C  \n",
       "2  female  26.0      0      0  STON/O2. 3101282   7.9250        S  \n",
       "3  female  35.0      1      0            113803  53.1000        S  \n",
       "4    male  35.0      0      0            373450   8.0500        S  "
      ]
     },
     "execution_count": 26,
     "metadata": {},
     "output_type": "execute_result"
    }
   ],
   "source": [
    "newdata = newdata[newdata['Age']<69]\n",
    "newdata.head()"
   ]
  },
  {
   "cell_type": "code",
   "execution_count": 27,
   "id": "6de36983",
   "metadata": {
    "execution": {
     "iopub.execute_input": "2022-09-28T15:54:17.701400Z",
     "iopub.status.busy": "2022-09-28T15:54:17.701042Z",
     "iopub.status.idle": "2022-09-28T15:54:17.706399Z",
     "shell.execute_reply": "2022-09-28T15:54:17.705531Z"
    },
    "papermill": {
     "duration": 0.028097,
     "end_time": "2022-09-28T15:54:17.708028",
     "exception": false,
     "start_time": "2022-09-28T15:54:17.679931",
     "status": "completed"
    },
    "tags": []
   },
   "outputs": [
    {
     "data": {
      "text/plain": [
       "(705, 10)"
      ]
     },
     "execution_count": 27,
     "metadata": {},
     "output_type": "execute_result"
    }
   ],
   "source": [
    "newdata.shape"
   ]
  },
  {
   "cell_type": "code",
   "execution_count": 28,
   "id": "6716faa1",
   "metadata": {
    "execution": {
     "iopub.execute_input": "2022-09-28T15:54:17.747477Z",
     "iopub.status.busy": "2022-09-28T15:54:17.747140Z",
     "iopub.status.idle": "2022-09-28T15:54:17.753796Z",
     "shell.execute_reply": "2022-09-28T15:54:17.752729Z"
    },
    "papermill": {
     "duration": 0.028548,
     "end_time": "2022-09-28T15:54:17.755649",
     "exception": false,
     "start_time": "2022-09-28T15:54:17.727101",
     "status": "completed"
    },
    "tags": []
   },
   "outputs": [
    {
     "data": {
      "text/plain": [
       "29.21797163120567"
      ]
     },
     "execution_count": 28,
     "metadata": {},
     "output_type": "execute_result"
    }
   ],
   "source": [
    "newdata['Age'].mean()"
   ]
  },
  {
   "cell_type": "code",
   "execution_count": 29,
   "id": "e122a1f8",
   "metadata": {
    "execution": {
     "iopub.execute_input": "2022-09-28T15:54:17.796199Z",
     "iopub.status.busy": "2022-09-28T15:54:17.795359Z",
     "iopub.status.idle": "2022-09-28T15:54:17.921631Z",
     "shell.execute_reply": "2022-09-28T15:54:17.920664Z"
    },
    "papermill": {
     "duration": 0.148869,
     "end_time": "2022-09-28T15:54:17.923828",
     "exception": false,
     "start_time": "2022-09-28T15:54:17.774959",
     "status": "completed"
    },
    "tags": []
   },
   "outputs": [
    {
     "data": {
      "text/plain": [
       "<AxesSubplot:xlabel='Sex', ylabel='Age'>"
      ]
     },
     "execution_count": 29,
     "metadata": {},
     "output_type": "execute_result"
    },
    {
     "data": {
      "image/png": "[encoded data removed]",
      "text/plain": [
       "<Figure size 432x288 with 1 Axes>"
      ]
     },
     "metadata": {
      "needs_background": "light"
     },
     "output_type": "display_data"
    }
   ],
   "source": [
    "sns.boxplot(x ='Sex', y='Age', data=newdata)"
   ]
  },
  {
   "cell_type": "code",
   "execution_count": 30,
   "id": "fdcadf72",
   "metadata": {
    "execution": {
     "iopub.execute_input": "2022-09-28T15:54:17.976152Z",
     "iopub.status.busy": "2022-09-28T15:54:17.975736Z",
     "iopub.status.idle": "2022-09-28T15:54:18.124484Z",
     "shell.execute_reply": "2022-09-28T15:54:18.123555Z"
    },
    "papermill": {
     "duration": 0.172701,
     "end_time": "2022-09-28T15:54:18.126628",
     "exception": false,
     "start_time": "2022-09-28T15:54:17.953927",
     "status": "completed"
    },
    "tags": []
   },
   "outputs": [
    {
     "name": "stderr",
     "output_type": "stream",
     "text": [
      "/opt/conda/lib/python3.7/site-packages/seaborn/distributions.py:2619: FutureWarning: `distplot` is a deprecated function and will be removed in a future version. Please adapt your code to use either `displot` (a figure-level function with similar flexibility) or `histplot` (an axes-level function for histograms).\n",
      "  warnings.warn(msg, FutureWarning)\n"
     ]
    },
    {
     "data": {
      "text/plain": [
       "<AxesSubplot:xlabel='Age', ylabel='Density'>"
      ]
     },
     "execution_count": 30,
     "metadata": {},
     "output_type": "execute_result"
    },
    {
     "data": {
      "image/png": "[encoded data removed]",
      "text/plain": [
       "<Figure size 432x288 with 1 Axes>"
      ]
     },
     "metadata": {
      "needs_background": "light"
     },
     "output_type": "display_data"
    }
   ],
   "source": [
    "sns.distplot(newdata['Age'])"
   ]
  },
  {
   "cell_type": "code",
   "execution_count": 31,
   "id": "7f0dcc5b",
   "metadata": {
    "execution": {
     "iopub.execute_input": "2022-09-28T15:54:18.168931Z",
     "iopub.status.busy": "2022-09-28T15:54:18.168130Z",
     "iopub.status.idle": "2022-09-28T15:54:18.325795Z",
     "shell.execute_reply": "2022-09-28T15:54:18.324843Z"
    },
    "papermill": {
     "duration": 0.181528,
     "end_time": "2022-09-28T15:54:18.328252",
     "exception": false,
     "start_time": "2022-09-28T15:54:18.146724",
     "status": "completed"
    },
    "tags": []
   },
   "outputs": [
    {
     "data": {
      "text/plain": [
       "<AxesSubplot:>"
      ]
     },
     "execution_count": 31,
     "metadata": {},
     "output_type": "execute_result"
    },
    {
     "data": {
      "image/png": "[encoded data removed]",
      "text/plain": [
       "<Figure size 432x288 with 1 Axes>"
      ]
     },
     "metadata": {
      "needs_background": "light"
     },
     "output_type": "display_data"
    }
   ],
   "source": [
    "newdata.boxplot()"
   ]
  },
  {
   "cell_type": "code",
   "execution_count": 32,
   "id": "5bf119a4",
   "metadata": {
    "execution": {
     "iopub.execute_input": "2022-09-28T15:54:18.370412Z",
     "iopub.status.busy": "2022-09-28T15:54:18.370065Z",
     "iopub.status.idle": "2022-09-28T15:54:18.377773Z",
     "shell.execute_reply": "2022-09-28T15:54:18.377006Z"
    },
    "papermill": {
     "duration": 0.030698,
     "end_time": "2022-09-28T15:54:18.379448",
     "exception": false,
     "start_time": "2022-09-28T15:54:18.348750",
     "status": "completed"
    },
    "tags": []
   },
   "outputs": [
    {
     "data": {
      "text/plain": [
       "0.9957446808510638"
      ]
     },
     "execution_count": 32,
     "metadata": {},
     "output_type": "execute_result"
    }
   ],
   "source": [
    "data['Age'] = newdata['Fare'] < 300\n",
    "data['Age'].mean()"
   ]
  },
  {
   "cell_type": "code",
   "execution_count": 33,
   "id": "e40c5aa8",
   "metadata": {
    "execution": {
     "iopub.execute_input": "2022-09-28T15:54:18.421405Z",
     "iopub.status.busy": "2022-09-28T15:54:18.420804Z",
     "iopub.status.idle": "2022-09-28T15:54:18.565391Z",
     "shell.execute_reply": "2022-09-28T15:54:18.564072Z"
    },
    "papermill": {
     "duration": 0.168055,
     "end_time": "2022-09-28T15:54:18.567813",
     "exception": false,
     "start_time": "2022-09-28T15:54:18.399758",
     "status": "completed"
    },
    "tags": []
   },
   "outputs": [
    {
     "data": {
      "text/plain": [
       "<AxesSubplot:>"
      ]
     },
     "execution_count": 33,
     "metadata": {},
     "output_type": "execute_result"
    },
    {
     "data": {
      "image/png": "[encoded data removed]",
      "text/plain": [
       "<Figure size 432x288 with 1 Axes>"
      ]
     },
     "metadata": {
      "needs_background": "light"
     },
     "output_type": "display_data"
    }
   ],
   "source": [
    "newdata = newdata[newdata['Fare']<69]\n",
    "newdata.boxplot()"
   ]
  },
  {
   "cell_type": "code",
   "execution_count": 34,
   "id": "3bfdab10",
   "metadata": {
    "execution": {
     "iopub.execute_input": "2022-09-28T15:54:18.611847Z",
     "iopub.status.busy": "2022-09-28T15:54:18.611212Z",
     "iopub.status.idle": "2022-09-28T15:54:18.723353Z",
     "shell.execute_reply": "2022-09-28T15:54:18.722558Z"
    },
    "papermill": {
     "duration": 0.136444,
     "end_time": "2022-09-28T15:54:18.725293",
     "exception": false,
     "start_time": "2022-09-28T15:54:18.588849",
     "status": "completed"
    },
    "tags": []
   },
   "outputs": [
    {
     "data": {
      "text/plain": [
       "<AxesSubplot:>"
      ]
     },
     "execution_count": 34,
     "metadata": {},
     "output_type": "execute_result"
    },
    {
     "data": {
      "image/png": "[encoded data removed]",
      "text/plain": [
       "<Figure size 432x288 with 1 Axes>"
      ]
     },
     "metadata": {
      "needs_background": "light"
     },
     "output_type": "display_data"
    }
   ],
   "source": [
    "newdata.boxplot(column=['Pclass','SibSp','Parch'])"
   ]
  },
  {
   "cell_type": "code",
   "execution_count": 35,
   "id": "3240aea9",
   "metadata": {
    "execution": {
     "iopub.execute_input": "2022-09-28T15:54:18.768951Z",
     "iopub.status.busy": "2022-09-28T15:54:18.768565Z",
     "iopub.status.idle": "2022-09-28T15:54:18.785438Z",
     "shell.execute_reply": "2022-09-28T15:54:18.783955Z"
    },
    "papermill": {
     "duration": 0.041011,
     "end_time": "2022-09-28T15:54:18.787840",
     "exception": false,
     "start_time": "2022-09-28T15:54:18.746829",
     "status": "completed"
    },
    "tags": []
   },
   "outputs": [
    {
     "name": "stderr",
     "output_type": "stream",
     "text": [
      "/opt/conda/lib/python3.7/site-packages/pandas/core/arraylike.py:364: RuntimeWarning: divide by zero encountered in log\n",
      "  result = getattr(ufunc, method)(*inputs, **kwargs)\n"
     ]
    },
    {
     "data": {
      "text/html": [
       "<div>\n",
       "<style scoped>\n",
       "    .dataframe tbody tr th:only-of-type {\n",
       "        vertical-align: middle;\n",
       "    }\n",
       "\n",
       "    .dataframe tbody tr th {\n",
       "        vertical-align: top;\n",
       "    }\n",
       "\n",
       "    .dataframe thead th {\n",
       "        text-align: right;\n",
       "    }\n",
       "</style>\n",
       "<table border=\"1\" class=\"dataframe\">\n",
       "  <thead>\n",
       "    <tr style=\"text-align: right;\">\n",
       "      <th></th>\n",
       "      <th>Survived</th>\n",
       "      <th>Pclass</th>\n",
       "      <th>Name</th>\n",
       "      <th>Sex</th>\n",
       "      <th>Age</th>\n",
       "      <th>SibSp</th>\n",
       "      <th>Parch</th>\n",
       "      <th>Ticket</th>\n",
       "      <th>Fare</th>\n",
       "      <th>Embarked</th>\n",
       "      <th>fare_log</th>\n",
       "    </tr>\n",
       "  </thead>\n",
       "  <tbody>\n",
       "    <tr>\n",
       "      <th>0</th>\n",
       "      <td>0</td>\n",
       "      <td>3</td>\n",
       "      <td>Braund, Mr. Owen Harris</td>\n",
       "      <td>male</td>\n",
       "      <td>22.0</td>\n",
       "      <td>1</td>\n",
       "      <td>0</td>\n",
       "      <td>A/5 21171</td>\n",
       "      <td>7.2500</td>\n",
       "      <td>S</td>\n",
       "      <td>1.981001</td>\n",
       "    </tr>\n",
       "    <tr>\n",
       "      <th>2</th>\n",
       "      <td>1</td>\n",
       "      <td>3</td>\n",
       "      <td>Heikkinen, Miss. Laina</td>\n",
       "      <td>female</td>\n",
       "      <td>26.0</td>\n",
       "      <td>0</td>\n",
       "      <td>0</td>\n",
       "      <td>STON/O2. 3101282</td>\n",
       "      <td>7.9250</td>\n",
       "      <td>S</td>\n",
       "      <td>2.070022</td>\n",
       "    </tr>\n",
       "    <tr>\n",
       "      <th>3</th>\n",
       "      <td>1</td>\n",
       "      <td>1</td>\n",
       "      <td>Futrelle, Mrs. Jacques Heath (Lily May Peel)</td>\n",
       "      <td>female</td>\n",
       "      <td>35.0</td>\n",
       "      <td>1</td>\n",
       "      <td>0</td>\n",
       "      <td>113803</td>\n",
       "      <td>53.1000</td>\n",
       "      <td>S</td>\n",
       "      <td>3.972177</td>\n",
       "    </tr>\n",
       "    <tr>\n",
       "      <th>4</th>\n",
       "      <td>0</td>\n",
       "      <td>3</td>\n",
       "      <td>Allen, Mr. William Henry</td>\n",
       "      <td>male</td>\n",
       "      <td>35.0</td>\n",
       "      <td>0</td>\n",
       "      <td>0</td>\n",
       "      <td>373450</td>\n",
       "      <td>8.0500</td>\n",
       "      <td>S</td>\n",
       "      <td>2.085672</td>\n",
       "    </tr>\n",
       "    <tr>\n",
       "      <th>6</th>\n",
       "      <td>0</td>\n",
       "      <td>1</td>\n",
       "      <td>McCarthy, Mr. Timothy J</td>\n",
       "      <td>male</td>\n",
       "      <td>54.0</td>\n",
       "      <td>0</td>\n",
       "      <td>0</td>\n",
       "      <td>17463</td>\n",
       "      <td>51.8625</td>\n",
       "      <td>S</td>\n",
       "      <td>3.948596</td>\n",
       "    </tr>\n",
       "  </tbody>\n",
       "</table>\n",
       "</div>"
      ],
      "text/plain": [
       "   Survived  Pclass                                          Name     Sex  \\\n",
       "0         0       3                       Braund, Mr. Owen Harris    male   \n",
       "2         1       3                        Heikkinen, Miss. Laina  female   \n",
       "3         1       1  Futrelle, Mrs. Jacques Heath (Lily May Peel)  female   \n",
       "4         0       3                      Allen, Mr. William Henry    male   \n",
       "6         0       1                       McCarthy, Mr. Timothy J    male   \n",
       "\n",
       "    Age  SibSp  Parch            Ticket     Fare Embarked  fare_log  \n",
       "0  22.0      1      0         A/5 21171   7.2500        S  1.981001  \n",
       "2  26.0      0      0  STON/O2. 3101282   7.9250        S  2.070022  \n",
       "3  35.0      1      0            113803  53.1000        S  3.972177  \n",
       "4  35.0      0      0            373450   8.0500        S  2.085672  \n",
       "6  54.0      0      0             17463  51.8625        S  3.948596  "
      ]
     },
     "execution_count": 35,
     "metadata": {},
     "output_type": "execute_result"
    }
   ],
   "source": [
    "# log transformation\n",
    "newdata['fare_log'] = np.log(newdata['Fare'])\n",
    "newdata.head()"
   ]
  },
  {
   "cell_type": "code",
   "execution_count": 36,
   "id": "2311ce4f",
   "metadata": {
    "execution": {
     "iopub.execute_input": "2022-09-28T15:54:18.832229Z",
     "iopub.status.busy": "2022-09-28T15:54:18.831636Z",
     "iopub.status.idle": "2022-09-28T15:54:18.843570Z",
     "shell.execute_reply": "2022-09-28T15:54:18.842795Z"
    },
    "papermill": {
     "duration": 0.036124,
     "end_time": "2022-09-28T15:54:18.845373",
     "exception": false,
     "start_time": "2022-09-28T15:54:18.809249",
     "status": "completed"
    },
    "tags": []
   },
   "outputs": [
    {
     "data": {
      "text/html": [
       "<div>\n",
       "<style scoped>\n",
       "    .dataframe tbody tr th:only-of-type {\n",
       "        vertical-align: middle;\n",
       "    }\n",
       "\n",
       "    .dataframe tbody tr th {\n",
       "        vertical-align: top;\n",
       "    }\n",
       "\n",
       "    .dataframe thead tr th {\n",
       "        text-align: left;\n",
       "    }\n",
       "\n",
       "    .dataframe thead tr:last-of-type th {\n",
       "        text-align: right;\n",
       "    }\n",
       "</style>\n",
       "<table border=\"1\" class=\"dataframe\">\n",
       "  <thead>\n",
       "    <tr>\n",
       "      <th></th>\n",
       "      <th>SibSp</th>\n",
       "    </tr>\n",
       "    <tr>\n",
       "      <th></th>\n",
       "      <th>count</th>\n",
       "    </tr>\n",
       "    <tr>\n",
       "      <th>SibSp</th>\n",
       "      <th></th>\n",
       "    </tr>\n",
       "  </thead>\n",
       "  <tbody>\n",
       "    <tr>\n",
       "      <th>0</th>\n",
       "      <td>418</td>\n",
       "    </tr>\n",
       "    <tr>\n",
       "      <th>1</th>\n",
       "      <td>141</td>\n",
       "    </tr>\n",
       "    <tr>\n",
       "      <th>2</th>\n",
       "      <td>18</td>\n",
       "    </tr>\n",
       "    <tr>\n",
       "      <th>3</th>\n",
       "      <td>9</td>\n",
       "    </tr>\n",
       "    <tr>\n",
       "      <th>4</th>\n",
       "      <td>18</td>\n",
       "    </tr>\n",
       "    <tr>\n",
       "      <th>5</th>\n",
       "      <td>5</td>\n",
       "    </tr>\n",
       "  </tbody>\n",
       "</table>\n",
       "</div>"
      ],
      "text/plain": [
       "      SibSp\n",
       "      count\n",
       "SibSp      \n",
       "0       418\n",
       "1       141\n",
       "2        18\n",
       "3         9\n",
       "4        18\n",
       "5         5"
      ]
     },
     "execution_count": 36,
     "metadata": {},
     "output_type": "execute_result"
    }
   ],
   "source": [
    "newdata[['SibSp']].groupby(['SibSp']).agg({'SibSp':['count']})"
   ]
  },
  {
   "cell_type": "code",
   "execution_count": 37,
   "id": "fb2707dc",
   "metadata": {
    "execution": {
     "iopub.execute_input": "2022-09-28T15:54:18.889865Z",
     "iopub.status.busy": "2022-09-28T15:54:18.889478Z",
     "iopub.status.idle": "2022-09-28T15:54:18.901780Z",
     "shell.execute_reply": "2022-09-28T15:54:18.900748Z"
    },
    "papermill": {
     "duration": 0.037005,
     "end_time": "2022-09-28T15:54:18.903695",
     "exception": false,
     "start_time": "2022-09-28T15:54:18.866690",
     "status": "completed"
    },
    "tags": []
   },
   "outputs": [
    {
     "data": {
      "text/html": [
       "<div>\n",
       "<style scoped>\n",
       "    .dataframe tbody tr th:only-of-type {\n",
       "        vertical-align: middle;\n",
       "    }\n",
       "\n",
       "    .dataframe tbody tr th {\n",
       "        vertical-align: top;\n",
       "    }\n",
       "\n",
       "    .dataframe thead tr th {\n",
       "        text-align: left;\n",
       "    }\n",
       "\n",
       "    .dataframe thead tr:last-of-type th {\n",
       "        text-align: right;\n",
       "    }\n",
       "</style>\n",
       "<table border=\"1\" class=\"dataframe\">\n",
       "  <thead>\n",
       "    <tr>\n",
       "      <th></th>\n",
       "      <th>Parch</th>\n",
       "    </tr>\n",
       "    <tr>\n",
       "      <th></th>\n",
       "      <th>count</th>\n",
       "    </tr>\n",
       "    <tr>\n",
       "      <th>Parch</th>\n",
       "      <th></th>\n",
       "    </tr>\n",
       "  </thead>\n",
       "  <tbody>\n",
       "    <tr>\n",
       "      <th>0</th>\n",
       "      <td>456</td>\n",
       "    </tr>\n",
       "    <tr>\n",
       "      <th>1</th>\n",
       "      <td>90</td>\n",
       "    </tr>\n",
       "    <tr>\n",
       "      <th>2</th>\n",
       "      <td>49</td>\n",
       "    </tr>\n",
       "    <tr>\n",
       "      <th>3</th>\n",
       "      <td>5</td>\n",
       "    </tr>\n",
       "    <tr>\n",
       "      <th>4</th>\n",
       "      <td>3</td>\n",
       "    </tr>\n",
       "    <tr>\n",
       "      <th>5</th>\n",
       "      <td>5</td>\n",
       "    </tr>\n",
       "    <tr>\n",
       "      <th>6</th>\n",
       "      <td>1</td>\n",
       "    </tr>\n",
       "  </tbody>\n",
       "</table>\n",
       "</div>"
      ],
      "text/plain": [
       "      Parch\n",
       "      count\n",
       "Parch      \n",
       "0       456\n",
       "1        90\n",
       "2        49\n",
       "3         5\n",
       "4         3\n",
       "5         5\n",
       "6         1"
      ]
     },
     "execution_count": 37,
     "metadata": {},
     "output_type": "execute_result"
    }
   ],
   "source": [
    "newdata[['Parch']].groupby(['Parch']).agg({'Parch':['count']})"
   ]
  },
  {
   "cell_type": "code",
   "execution_count": 38,
   "id": "ad5c88cb",
   "metadata": {
    "execution": {
     "iopub.execute_input": "2022-09-28T15:54:18.948874Z",
     "iopub.status.busy": "2022-09-28T15:54:18.948532Z",
     "iopub.status.idle": "2022-09-28T15:54:19.054245Z",
     "shell.execute_reply": "2022-09-28T15:54:19.053511Z"
    },
    "papermill": {
     "duration": 0.130302,
     "end_time": "2022-09-28T15:54:19.056176",
     "exception": false,
     "start_time": "2022-09-28T15:54:18.925874",
     "status": "completed"
    },
    "tags": []
   },
   "outputs": [
    {
     "data": {
      "text/plain": [
       "<AxesSubplot:>"
      ]
     },
     "execution_count": 38,
     "metadata": {},
     "output_type": "execute_result"
    },
    {
     "data": {
      "image/png": "[encoded data removed]",
      "text/plain": [
       "<Figure size 432x288 with 1 Axes>"
      ]
     },
     "metadata": {
      "needs_background": "light"
     },
     "output_type": "display_data"
    }
   ],
   "source": [
    "newdata.boxplot(column=['Age'])"
   ]
  },
  {
   "cell_type": "markdown",
   "id": "17491812",
   "metadata": {
    "papermill": {
     "duration": 0.024887,
     "end_time": "2022-09-28T15:54:19.109392",
     "exception": false,
     "start_time": "2022-09-28T15:54:19.084505",
     "status": "completed"
    },
    "tags": []
   },
   "source": [
    "### Kurtosis and Skewness\n",
    "\n",
    "* Kurtosis is a measure of spread of tail of a data distribution. There are 3 types of kurtosis - high, medium and low. "
   ]
  },
  {
   "cell_type": "code",
   "execution_count": 39,
   "id": "f8e63a92",
   "metadata": {
    "execution": {
     "iopub.execute_input": "2022-09-28T15:54:19.154856Z",
     "iopub.status.busy": "2022-09-28T15:54:19.154046Z",
     "iopub.status.idle": "2022-09-28T15:54:19.162934Z",
     "shell.execute_reply": "2022-09-28T15:54:19.161772Z"
    },
    "papermill": {
     "duration": 0.034983,
     "end_time": "2022-09-28T15:54:19.166355",
     "exception": false,
     "start_time": "2022-09-28T15:54:19.131372",
     "status": "completed"
    },
    "tags": []
   },
   "outputs": [
    {
     "name": "stderr",
     "output_type": "stream",
     "text": [
      "/opt/conda/lib/python3.7/site-packages/ipykernel_launcher.py:1: FutureWarning: Dropping of nuisance columns in DataFrame reductions (with 'numeric_only=None') is deprecated; in a future version this will raise TypeError.  Select only valid columns before calling the reduction.\n",
      "  \"\"\"Entry point for launching an IPython kernel.\n"
     ]
    },
    {
     "data": {
      "text/plain": [
       "Survived    -1.643604\n",
       "Pclass      -0.622273\n",
       "Age         -0.017044\n",
       "SibSp        7.352063\n",
       "Parch       10.527309\n",
       "Fare         1.358940\n",
       "fare_log          NaN\n",
       "dtype: float64"
      ]
     },
     "execution_count": 39,
     "metadata": {},
     "output_type": "execute_result"
    }
   ],
   "source": [
    "newdata.kurt()"
   ]
  },
  {
   "cell_type": "markdown",
   "id": "01be0782",
   "metadata": {
    "papermill": {
     "duration": 0.021765,
     "end_time": "2022-09-28T15:54:19.210688",
     "exception": false,
     "start_time": "2022-09-28T15:54:19.188923",
     "status": "completed"
    },
    "tags": []
   },
   "source": [
    "* Skewness is the measure of asymmetry of distribution. Positive value of skew is right skewed and negative value is left skewed."
   ]
  },
  {
   "cell_type": "code",
   "execution_count": 40,
   "id": "3e6475f8",
   "metadata": {
    "execution": {
     "iopub.execute_input": "2022-09-28T15:54:19.257007Z",
     "iopub.status.busy": "2022-09-28T15:54:19.255758Z",
     "iopub.status.idle": "2022-09-28T15:54:19.266984Z",
     "shell.execute_reply": "2022-09-28T15:54:19.265625Z"
    },
    "papermill": {
     "duration": 0.036196,
     "end_time": "2022-09-28T15:54:19.268815",
     "exception": false,
     "start_time": "2022-09-28T15:54:19.232619",
     "status": "completed"
    },
    "tags": []
   },
   "outputs": [
    {
     "name": "stderr",
     "output_type": "stream",
     "text": [
      "/opt/conda/lib/python3.7/site-packages/ipykernel_launcher.py:1: FutureWarning: Dropping of nuisance columns in DataFrame reductions (with 'numeric_only=None') is deprecated; in a future version this will raise TypeError.  Select only valid columns before calling the reduction.\n",
      "  \"\"\"Entry point for launching an IPython kernel.\n"
     ]
    },
    {
     "data": {
      "text/plain": [
       "Survived    0.601502\n",
       "Pclass     -0.882995\n",
       "Age         0.253811\n",
       "SibSp       2.632998\n",
       "Parch       2.877652\n",
       "Fare        1.393232\n",
       "fare_log         NaN\n",
       "dtype: float64"
      ]
     },
     "execution_count": 40,
     "metadata": {},
     "output_type": "execute_result"
    }
   ],
   "source": [
    "newdata.skew()"
   ]
  },
  {
   "cell_type": "code",
   "execution_count": 41,
   "id": "42249fe5",
   "metadata": {
    "execution": {
     "iopub.execute_input": "2022-09-28T15:54:19.314981Z",
     "iopub.status.busy": "2022-09-28T15:54:19.314653Z",
     "iopub.status.idle": "2022-09-28T15:54:20.161689Z",
     "shell.execute_reply": "2022-09-28T15:54:20.160354Z"
    },
    "papermill": {
     "duration": 0.872933,
     "end_time": "2022-09-28T15:54:20.164064",
     "exception": false,
     "start_time": "2022-09-28T15:54:19.291131",
     "status": "completed"
    },
    "tags": []
   },
   "outputs": [
    {
     "data": {
      "text/plain": [
       "<AxesSubplot:ylabel='Frequency'>"
      ]
     },
     "execution_count": 41,
     "metadata": {},
     "output_type": "execute_result"
    },
    {
     "data": {
      "image/png": "[encoded data removed]",
      "text/plain": [
       "<Figure size 432x288 with 1 Axes>"
      ]
     },
     "metadata": {
      "needs_background": "light"
     },
     "output_type": "display_data"
    },
    {
     "data": {
      "image/png": "[encoded data removed]",
      "text/plain": [
       "<Figure size 432x288 with 1 Axes>"
      ]
     },
     "metadata": {
      "needs_background": "light"
     },
     "output_type": "display_data"
    },
    {
     "data": {
      "image/png": "[encoded data removed]",
      "text/plain": [
       "<Figure size 432x288 with 1 Axes>"
      ]
     },
     "metadata": {
      "needs_background": "light"
     },
     "output_type": "display_data"
    },
    {
     "data": {
      "image/png": "[encoded data removed]",
      "text/plain": [
       "<Figure size 432x288 with 1 Axes>"
      ]
     },
     "metadata": {
      "needs_background": "light"
     },
     "output_type": "display_data"
    },
    {
     "data": {
      "image/png": "[encoded data removed]",
      "text/plain": [
       "<Figure size 432x288 with 1 Axes>"
      ]
     },
     "metadata": {
      "needs_background": "light"
     },
     "output_type": "display_data"
    }
   ],
   "source": [
    "newdata[['Pclass']].plot.hist()\n",
    "newdata[['Age']].plot.hist()\n",
    "newdata[['SibSp']].plot.hist()\n",
    "newdata[['Parch']].plot.hist()\n",
    "newdata[['Fare']].plot.hist()"
   ]
  },
  {
   "cell_type": "code",
   "execution_count": 42,
   "id": "704fb1e2",
   "metadata": {
    "execution": {
     "iopub.execute_input": "2022-09-28T15:54:20.214711Z",
     "iopub.status.busy": "2022-09-28T15:54:20.214352Z",
     "iopub.status.idle": "2022-09-28T15:54:20.882191Z",
     "shell.execute_reply": "2022-09-28T15:54:20.880964Z"
    },
    "papermill": {
     "duration": 0.69708,
     "end_time": "2022-09-28T15:54:20.884192",
     "exception": false,
     "start_time": "2022-09-28T15:54:20.187112",
     "status": "completed"
    },
    "tags": []
   },
   "outputs": [
    {
     "data": {
      "text/plain": [
       "<AxesSubplot:ylabel='Density'>"
      ]
     },
     "execution_count": 42,
     "metadata": {},
     "output_type": "execute_result"
    },
    {
     "data": {
      "image/png": "[encoded data removed]",
      "text/plain": [
       "<Figure size 432x288 with 1 Axes>"
      ]
     },
     "metadata": {
      "needs_background": "light"
     },
     "output_type": "display_data"
    },
    {
     "data": {
      "image/png": "[encoded data removed]",
      "text/plain": [
       "<Figure size 432x288 with 1 Axes>"
      ]
     },
     "metadata": {
      "needs_background": "light"
     },
     "output_type": "display_data"
    },
    {
     "data": {
      "image/png": "[encoded data removed]",
      "text/plain": [
       "<Figure size 432x288 with 1 Axes>"
      ]
     },
     "metadata": {
      "needs_background": "light"
     },
     "output_type": "display_data"
    },
    {
     "data": {
      "image/png": "[encoded data removed]",
      "text/plain": [
       "<Figure size 432x288 with 1 Axes>"
      ]
     },
     "metadata": {
      "needs_background": "light"
     },
     "output_type": "display_data"
    },
    {
     "data": {
      "image/png": "[encoded data removed]",
      "text/plain": [
       "<Figure size 432x288 with 1 Axes>"
      ]
     },
     "metadata": {
      "needs_background": "light"
     },
     "output_type": "display_data"
    }
   ],
   "source": [
    "newdata[['Pclass']].plot.kde()\n",
    "newdata[['Age']].plot.kde()\n",
    "newdata[['SibSp']].plot.kde()\n",
    "newdata[['Parch']].plot.kde()\n",
    "newdata[['Fare']].plot.kde()"
   ]
  },
  {
   "cell_type": "code",
   "execution_count": 43,
   "id": "97b6fadd",
   "metadata": {
    "execution": {
     "iopub.execute_input": "2022-09-28T15:54:20.936857Z",
     "iopub.status.busy": "2022-09-28T15:54:20.936488Z",
     "iopub.status.idle": "2022-09-28T15:54:21.049186Z",
     "shell.execute_reply": "2022-09-28T15:54:21.048447Z"
    },
    "papermill": {
     "duration": 0.139631,
     "end_time": "2022-09-28T15:54:21.050783",
     "exception": false,
     "start_time": "2022-09-28T15:54:20.911152",
     "status": "completed"
    },
    "tags": []
   },
   "outputs": [
    {
     "data": {
      "text/plain": [
       "<AxesSubplot:>"
      ]
     },
     "execution_count": 43,
     "metadata": {},
     "output_type": "execute_result"
    },
    {
     "data": {
      "image/png": "[encoded data removed]",
      "text/plain": [
       "<Figure size 432x288 with 1 Axes>"
      ]
     },
     "metadata": {
      "needs_background": "light"
     },
     "output_type": "display_data"
    }
   ],
   "source": [
    "pd.value_counts(newdata['Survived']).plot.bar()"
   ]
  },
  {
   "cell_type": "code",
   "execution_count": 44,
   "id": "b17c77cc",
   "metadata": {
    "execution": {
     "iopub.execute_input": "2022-09-28T15:54:21.108437Z",
     "iopub.status.busy": "2022-09-28T15:54:21.107909Z",
     "iopub.status.idle": "2022-09-28T15:54:21.223361Z",
     "shell.execute_reply": "2022-09-28T15:54:21.222565Z"
    },
    "papermill": {
     "duration": 0.143326,
     "end_time": "2022-09-28T15:54:21.225294",
     "exception": false,
     "start_time": "2022-09-28T15:54:21.081968",
     "status": "completed"
    },
    "tags": []
   },
   "outputs": [
    {
     "data": {
      "text/plain": [
       "<AxesSubplot:>"
      ]
     },
     "execution_count": 44,
     "metadata": {},
     "output_type": "execute_result"
    },
    {
     "data": {
      "image/png": "[encoded data removed]",
      "text/plain": [
       "<Figure size 432x288 with 1 Axes>"
      ]
     },
     "metadata": {
      "needs_background": "light"
     },
     "output_type": "display_data"
    }
   ],
   "source": [
    "pd.value_counts(newdata['Sex']).plot.bar()"
   ]
  },
  {
   "cell_type": "code",
   "execution_count": 45,
   "id": "d7c9f005",
   "metadata": {
    "execution": {
     "iopub.execute_input": "2022-09-28T15:54:21.281980Z",
     "iopub.status.busy": "2022-09-28T15:54:21.281625Z",
     "iopub.status.idle": "2022-09-28T15:54:21.406093Z",
     "shell.execute_reply": "2022-09-28T15:54:21.404997Z"
    },
    "papermill": {
     "duration": 0.152842,
     "end_time": "2022-09-28T15:54:21.408297",
     "exception": false,
     "start_time": "2022-09-28T15:54:21.255455",
     "status": "completed"
    },
    "tags": []
   },
   "outputs": [
    {
     "data": {
      "text/plain": [
       "<AxesSubplot:>"
      ]
     },
     "execution_count": 45,
     "metadata": {},
     "output_type": "execute_result"
    },
    {
     "data": {
      "image/png": "[encoded data removed]",
      "text/plain": [
       "<Figure size 432x288 with 1 Axes>"
      ]
     },
     "metadata": {
      "needs_background": "light"
     },
     "output_type": "display_data"
    }
   ],
   "source": [
    "pd.value_counts(newdata['Pclass']).plot.bar()"
   ]
  },
  {
   "cell_type": "code",
   "execution_count": 46,
   "id": "2590068a",
   "metadata": {
    "execution": {
     "iopub.execute_input": "2022-09-28T15:54:21.463222Z",
     "iopub.status.busy": "2022-09-28T15:54:21.462596Z",
     "iopub.status.idle": "2022-09-28T15:54:21.583357Z",
     "shell.execute_reply": "2022-09-28T15:54:21.582609Z"
    },
    "papermill": {
     "duration": 0.148117,
     "end_time": "2022-09-28T15:54:21.585192",
     "exception": false,
     "start_time": "2022-09-28T15:54:21.437075",
     "status": "completed"
    },
    "tags": []
   },
   "outputs": [
    {
     "data": {
      "text/plain": [
       "<AxesSubplot:xlabel='Survived', ylabel='count'>"
      ]
     },
     "execution_count": 46,
     "metadata": {},
     "output_type": "execute_result"
    },
    {
     "data": {
      "image/png": "[encoded data removed]",
      "text/plain": [
       "<Figure size 432x288 with 1 Axes>"
      ]
     },
     "metadata": {
      "needs_background": "light"
     },
     "output_type": "display_data"
    }
   ],
   "source": [
    "\n",
    "# Out of all the people who survived how many men and how many females\n",
    "sns.countplot(x=\"Survived\",hue=\"Sex\",data=data)"
   ]
  },
  {
   "cell_type": "code",
   "execution_count": 47,
   "id": "0ab0fb75",
   "metadata": {
    "execution": {
     "iopub.execute_input": "2022-09-28T15:54:21.645763Z",
     "iopub.status.busy": "2022-09-28T15:54:21.645336Z",
     "iopub.status.idle": "2022-09-28T15:54:21.781346Z",
     "shell.execute_reply": "2022-09-28T15:54:21.780624Z"
    },
    "papermill": {
     "duration": 0.165762,
     "end_time": "2022-09-28T15:54:21.783400",
     "exception": false,
     "start_time": "2022-09-28T15:54:21.617638",
     "status": "completed"
    },
    "tags": []
   },
   "outputs": [
    {
     "data": {
      "text/plain": [
       "<AxesSubplot:xlabel='Survived', ylabel='count'>"
      ]
     },
     "execution_count": 47,
     "metadata": {},
     "output_type": "execute_result"
    },
    {
     "data": {
      "image/png": "[encoded data removed]",
      "text/plain": [
       "<Figure size 432x288 with 1 Axes>"
      ]
     },
     "metadata": {
      "needs_background": "light"
     },
     "output_type": "display_data"
    }
   ],
   "source": [
    "\n",
    "# hue = Pclass\n",
    "sns.countplot(x=\"Survived\",hue=\"Pclass\",data=data)"
   ]
  },
  {
   "cell_type": "markdown",
   "id": "2cb2e083",
   "metadata": {
    "papermill": {
     "duration": 0.026021,
     "end_time": "2022-09-28T15:54:21.838087",
     "exception": false,
     "start_time": "2022-09-28T15:54:21.812066",
     "status": "completed"
    },
    "tags": []
   },
   "source": [
    "### Relationship between the data\n",
    "\n",
    "#### Correlation\n",
    "\n",
    "Dataframe correlation is used to find how pair of variables behave with each other.\n",
    "Correlation varies from -1 to +1. -1 means variables movements ae opposite i.e., if one increases other decreases at the same rate. +1 means variable movements are in sync i.e., if one increases other also increases at same rate. 0 means variable are uncorrelated.\n",
    "Pandas data frame function provides three kinds of correlations – pearson, kendall and spearman.\n",
    "\n",
    "\n",
    "Let’s see these correlation matrices:"
   ]
  },
  {
   "cell_type": "code",
   "execution_count": 48,
   "id": "29714271",
   "metadata": {
    "execution": {
     "iopub.execute_input": "2022-09-28T15:54:21.892490Z",
     "iopub.status.busy": "2022-09-28T15:54:21.891184Z",
     "iopub.status.idle": "2022-09-28T15:54:21.908632Z",
     "shell.execute_reply": "2022-09-28T15:54:21.907360Z"
    },
    "papermill": {
     "duration": 0.046587,
     "end_time": "2022-09-28T15:54:21.911129",
     "exception": false,
     "start_time": "2022-09-28T15:54:21.864542",
     "status": "completed"
    },
    "tags": []
   },
   "outputs": [
    {
     "data": {
      "text/html": [
       "<div>\n",
       "<style scoped>\n",
       "    .dataframe tbody tr th:only-of-type {\n",
       "        vertical-align: middle;\n",
       "    }\n",
       "\n",
       "    .dataframe tbody tr th {\n",
       "        vertical-align: top;\n",
       "    }\n",
       "\n",
       "    .dataframe thead th {\n",
       "        text-align: right;\n",
       "    }\n",
       "</style>\n",
       "<table border=\"1\" class=\"dataframe\">\n",
       "  <thead>\n",
       "    <tr style=\"text-align: right;\">\n",
       "      <th></th>\n",
       "      <th>Survived</th>\n",
       "      <th>Pclass</th>\n",
       "      <th>Age</th>\n",
       "      <th>SibSp</th>\n",
       "      <th>Parch</th>\n",
       "      <th>Fare</th>\n",
       "      <th>fare_log</th>\n",
       "    </tr>\n",
       "  </thead>\n",
       "  <tbody>\n",
       "    <tr>\n",
       "      <th>Survived</th>\n",
       "      <td>1.000000</td>\n",
       "      <td>-0.271479</td>\n",
       "      <td>-0.130809</td>\n",
       "      <td>-0.025974</td>\n",
       "      <td>0.098131</td>\n",
       "      <td>0.228695</td>\n",
       "      <td>0.247448</td>\n",
       "    </tr>\n",
       "    <tr>\n",
       "      <th>Pclass</th>\n",
       "      <td>-0.271479</td>\n",
       "      <td>1.000000</td>\n",
       "      <td>-0.381791</td>\n",
       "      <td>0.122815</td>\n",
       "      <td>0.108867</td>\n",
       "      <td>-0.597647</td>\n",
       "      <td>-0.641957</td>\n",
       "    </tr>\n",
       "    <tr>\n",
       "      <th>Age</th>\n",
       "      <td>-0.130809</td>\n",
       "      <td>-0.381791</td>\n",
       "      <td>1.000000</td>\n",
       "      <td>-0.360578</td>\n",
       "      <td>-0.212952</td>\n",
       "      <td>0.080849</td>\n",
       "      <td>0.073797</td>\n",
       "    </tr>\n",
       "    <tr>\n",
       "      <th>SibSp</th>\n",
       "      <td>-0.025974</td>\n",
       "      <td>0.122815</td>\n",
       "      <td>-0.360578</td>\n",
       "      <td>1.000000</td>\n",
       "      <td>0.402079</td>\n",
       "      <td>0.382489</td>\n",
       "      <td>0.419778</td>\n",
       "    </tr>\n",
       "    <tr>\n",
       "      <th>Parch</th>\n",
       "      <td>0.098131</td>\n",
       "      <td>0.108867</td>\n",
       "      <td>-0.212952</td>\n",
       "      <td>0.402079</td>\n",
       "      <td>1.000000</td>\n",
       "      <td>0.340278</td>\n",
       "      <td>0.400886</td>\n",
       "    </tr>\n",
       "    <tr>\n",
       "      <th>Fare</th>\n",
       "      <td>0.228695</td>\n",
       "      <td>-0.597647</td>\n",
       "      <td>0.080849</td>\n",
       "      <td>0.382489</td>\n",
       "      <td>0.340278</td>\n",
       "      <td>1.000000</td>\n",
       "      <td>0.955339</td>\n",
       "    </tr>\n",
       "    <tr>\n",
       "      <th>fare_log</th>\n",
       "      <td>0.247448</td>\n",
       "      <td>-0.641957</td>\n",
       "      <td>0.073797</td>\n",
       "      <td>0.419778</td>\n",
       "      <td>0.400886</td>\n",
       "      <td>0.955339</td>\n",
       "      <td>1.000000</td>\n",
       "    </tr>\n",
       "  </tbody>\n",
       "</table>\n",
       "</div>"
      ],
      "text/plain": [
       "          Survived    Pclass       Age     SibSp     Parch      Fare  fare_log\n",
       "Survived  1.000000 -0.271479 -0.130809 -0.025974  0.098131  0.228695  0.247448\n",
       "Pclass   -0.271479  1.000000 -0.381791  0.122815  0.108867 -0.597647 -0.641957\n",
       "Age      -0.130809 -0.381791  1.000000 -0.360578 -0.212952  0.080849  0.073797\n",
       "SibSp    -0.025974  0.122815 -0.360578  1.000000  0.402079  0.382489  0.419778\n",
       "Parch     0.098131  0.108867 -0.212952  0.402079  1.000000  0.340278  0.400886\n",
       "Fare      0.228695 -0.597647  0.080849  0.382489  0.340278  1.000000  0.955339\n",
       "fare_log  0.247448 -0.641957  0.073797  0.419778  0.400886  0.955339  1.000000"
      ]
     },
     "execution_count": 48,
     "metadata": {},
     "output_type": "execute_result"
    }
   ],
   "source": [
    "corr = newdata.corr()\n",
    "corr"
   ]
  },
  {
   "cell_type": "code",
   "execution_count": 49,
   "id": "797702f6",
   "metadata": {
    "execution": {
     "iopub.execute_input": "2022-09-28T15:54:21.965202Z",
     "iopub.status.busy": "2022-09-28T15:54:21.964384Z",
     "iopub.status.idle": "2022-09-28T15:54:22.296784Z",
     "shell.execute_reply": "2022-09-28T15:54:22.295359Z"
    },
    "papermill": {
     "duration": 0.361822,
     "end_time": "2022-09-28T15:54:22.299304",
     "exception": false,
     "start_time": "2022-09-28T15:54:21.937482",
     "status": "completed"
    },
    "tags": []
   },
   "outputs": [
    {
     "data": {
      "text/plain": [
       "<AxesSubplot:>"
      ]
     },
     "execution_count": 49,
     "metadata": {},
     "output_type": "execute_result"
    },
    {
     "data": {
      "image/png": "[encoded data removed]",
      "text/plain": [
       "<Figure size 432x288 with 2 Axes>"
      ]
     },
     "metadata": {
      "needs_background": "light"
     },
     "output_type": "display_data"
    }
   ],
   "source": [
    "sns.heatmap(corr, annot=True)"
   ]
  },
  {
   "cell_type": "code",
   "execution_count": 50,
   "id": "14ed01b8",
   "metadata": {
    "execution": {
     "iopub.execute_input": "2022-09-28T15:54:22.354163Z",
     "iopub.status.busy": "2022-09-28T15:54:22.353324Z",
     "iopub.status.idle": "2022-09-28T15:54:22.365656Z",
     "shell.execute_reply": "2022-09-28T15:54:22.364991Z"
    },
    "papermill": {
     "duration": 0.041521,
     "end_time": "2022-09-28T15:54:22.367348",
     "exception": false,
     "start_time": "2022-09-28T15:54:22.325827",
     "status": "completed"
    },
    "tags": []
   },
   "outputs": [
    {
     "data": {
      "text/html": [
       "<div>\n",
       "<style scoped>\n",
       "    .dataframe tbody tr th:only-of-type {\n",
       "        vertical-align: middle;\n",
       "    }\n",
       "\n",
       "    .dataframe tbody tr th {\n",
       "        vertical-align: top;\n",
       "    }\n",
       "\n",
       "    .dataframe thead th {\n",
       "        text-align: right;\n",
       "    }\n",
       "</style>\n",
       "<table border=\"1\" class=\"dataframe\">\n",
       "  <thead>\n",
       "    <tr style=\"text-align: right;\">\n",
       "      <th></th>\n",
       "      <th>Survived</th>\n",
       "      <th>Pclass</th>\n",
       "      <th>Age</th>\n",
       "      <th>SibSp</th>\n",
       "      <th>Parch</th>\n",
       "      <th>Fare</th>\n",
       "      <th>fare_log</th>\n",
       "    </tr>\n",
       "  </thead>\n",
       "  <tbody>\n",
       "    <tr>\n",
       "      <th>Survived</th>\n",
       "      <td>1.000000</td>\n",
       "      <td>-0.271479</td>\n",
       "      <td>-0.130809</td>\n",
       "      <td>-0.025974</td>\n",
       "      <td>0.098131</td>\n",
       "      <td>0.228695</td>\n",
       "      <td>0.247448</td>\n",
       "    </tr>\n",
       "    <tr>\n",
       "      <th>Pclass</th>\n",
       "      <td>-0.271479</td>\n",
       "      <td>1.000000</td>\n",
       "      <td>-0.381791</td>\n",
       "      <td>0.122815</td>\n",
       "      <td>0.108867</td>\n",
       "      <td>-0.597647</td>\n",
       "      <td>-0.641957</td>\n",
       "    </tr>\n",
       "    <tr>\n",
       "      <th>Age</th>\n",
       "      <td>-0.130809</td>\n",
       "      <td>-0.381791</td>\n",
       "      <td>1.000000</td>\n",
       "      <td>-0.360578</td>\n",
       "      <td>-0.212952</td>\n",
       "      <td>0.080849</td>\n",
       "      <td>0.073797</td>\n",
       "    </tr>\n",
       "    <tr>\n",
       "      <th>SibSp</th>\n",
       "      <td>-0.025974</td>\n",
       "      <td>0.122815</td>\n",
       "      <td>-0.360578</td>\n",
       "      <td>1.000000</td>\n",
       "      <td>0.402079</td>\n",
       "      <td>0.382489</td>\n",
       "      <td>0.419778</td>\n",
       "    </tr>\n",
       "    <tr>\n",
       "      <th>Parch</th>\n",
       "      <td>0.098131</td>\n",
       "      <td>0.108867</td>\n",
       "      <td>-0.212952</td>\n",
       "      <td>0.402079</td>\n",
       "      <td>1.000000</td>\n",
       "      <td>0.340278</td>\n",
       "      <td>0.400886</td>\n",
       "    </tr>\n",
       "    <tr>\n",
       "      <th>Fare</th>\n",
       "      <td>0.228695</td>\n",
       "      <td>-0.597647</td>\n",
       "      <td>0.080849</td>\n",
       "      <td>0.382489</td>\n",
       "      <td>0.340278</td>\n",
       "      <td>1.000000</td>\n",
       "      <td>0.955339</td>\n",
       "    </tr>\n",
       "    <tr>\n",
       "      <th>fare_log</th>\n",
       "      <td>0.247448</td>\n",
       "      <td>-0.641957</td>\n",
       "      <td>0.073797</td>\n",
       "      <td>0.419778</td>\n",
       "      <td>0.400886</td>\n",
       "      <td>0.955339</td>\n",
       "      <td>1.000000</td>\n",
       "    </tr>\n",
       "  </tbody>\n",
       "</table>\n",
       "</div>"
      ],
      "text/plain": [
       "          Survived    Pclass       Age     SibSp     Parch      Fare  fare_log\n",
       "Survived  1.000000 -0.271479 -0.130809 -0.025974  0.098131  0.228695  0.247448\n",
       "Pclass   -0.271479  1.000000 -0.381791  0.122815  0.108867 -0.597647 -0.641957\n",
       "Age      -0.130809 -0.381791  1.000000 -0.360578 -0.212952  0.080849  0.073797\n",
       "SibSp    -0.025974  0.122815 -0.360578  1.000000  0.402079  0.382489  0.419778\n",
       "Parch     0.098131  0.108867 -0.212952  0.402079  1.000000  0.340278  0.400886\n",
       "Fare      0.228695 -0.597647  0.080849  0.382489  0.340278  1.000000  0.955339\n",
       "fare_log  0.247448 -0.641957  0.073797  0.419778  0.400886  0.955339  1.000000"
      ]
     },
     "execution_count": 50,
     "metadata": {},
     "output_type": "execute_result"
    }
   ],
   "source": [
    "corr = newdata.corr(method='pearson')\n",
    "corr"
   ]
  },
  {
   "cell_type": "code",
   "execution_count": 51,
   "id": "a96716db",
   "metadata": {
    "execution": {
     "iopub.execute_input": "2022-09-28T15:54:22.423346Z",
     "iopub.status.busy": "2022-09-28T15:54:22.422056Z",
     "iopub.status.idle": "2022-09-28T15:54:22.761436Z",
     "shell.execute_reply": "2022-09-28T15:54:22.760529Z"
    },
    "papermill": {
     "duration": 0.369325,
     "end_time": "2022-09-28T15:54:22.763589",
     "exception": false,
     "start_time": "2022-09-28T15:54:22.394264",
     "status": "completed"
    },
    "tags": []
   },
   "outputs": [
    {
     "data": {
      "text/plain": [
       "<AxesSubplot:>"
      ]
     },
     "execution_count": 51,
     "metadata": {},
     "output_type": "execute_result"
    },
    {
     "data": {
      "image/png": "[encoded data removed]",
      "text/plain": [
       "<Figure size 432x288 with 2 Axes>"
      ]
     },
     "metadata": {
      "needs_background": "light"
     },
     "output_type": "display_data"
    }
   ],
   "source": [
    "sns.heatmap(corr, annot=True)"
   ]
  },
  {
   "cell_type": "code",
   "execution_count": 52,
   "id": "0743d37f",
   "metadata": {
    "execution": {
     "iopub.execute_input": "2022-09-28T15:54:22.820395Z",
     "iopub.status.busy": "2022-09-28T15:54:22.820046Z",
     "iopub.status.idle": "2022-09-28T15:54:22.836964Z",
     "shell.execute_reply": "2022-09-28T15:54:22.835941Z"
    },
    "papermill": {
     "duration": 0.047393,
     "end_time": "2022-09-28T15:54:22.838672",
     "exception": false,
     "start_time": "2022-09-28T15:54:22.791279",
     "status": "completed"
    },
    "tags": []
   },
   "outputs": [
    {
     "data": {
      "text/html": [
       "<div>\n",
       "<style scoped>\n",
       "    .dataframe tbody tr th:only-of-type {\n",
       "        vertical-align: middle;\n",
       "    }\n",
       "\n",
       "    .dataframe tbody tr th {\n",
       "        vertical-align: top;\n",
       "    }\n",
       "\n",
       "    .dataframe thead th {\n",
       "        text-align: right;\n",
       "    }\n",
       "</style>\n",
       "<table border=\"1\" class=\"dataframe\">\n",
       "  <thead>\n",
       "    <tr style=\"text-align: right;\">\n",
       "      <th></th>\n",
       "      <th>Survived</th>\n",
       "      <th>Pclass</th>\n",
       "      <th>Age</th>\n",
       "      <th>SibSp</th>\n",
       "      <th>Parch</th>\n",
       "      <th>Fare</th>\n",
       "      <th>fare_log</th>\n",
       "    </tr>\n",
       "  </thead>\n",
       "  <tbody>\n",
       "    <tr>\n",
       "      <th>Survived</th>\n",
       "      <td>1.000000</td>\n",
       "      <td>-0.282739</td>\n",
       "      <td>-0.104960</td>\n",
       "      <td>0.059791</td>\n",
       "      <td>0.168304</td>\n",
       "      <td>0.248687</td>\n",
       "      <td>0.245045</td>\n",
       "    </tr>\n",
       "    <tr>\n",
       "      <th>Pclass</th>\n",
       "      <td>-0.282739</td>\n",
       "      <td>1.000000</td>\n",
       "      <td>-0.359963</td>\n",
       "      <td>0.018470</td>\n",
       "      <td>0.059367</td>\n",
       "      <td>-0.596141</td>\n",
       "      <td>-0.617123</td>\n",
       "    </tr>\n",
       "    <tr>\n",
       "      <th>Age</th>\n",
       "      <td>-0.104960</td>\n",
       "      <td>-0.359963</td>\n",
       "      <td>1.000000</td>\n",
       "      <td>-0.235822</td>\n",
       "      <td>-0.304770</td>\n",
       "      <td>0.079934</td>\n",
       "      <td>0.092720</td>\n",
       "    </tr>\n",
       "    <tr>\n",
       "      <th>SibSp</th>\n",
       "      <td>0.059791</td>\n",
       "      <td>0.018470</td>\n",
       "      <td>-0.235822</td>\n",
       "      <td>1.000000</td>\n",
       "      <td>0.472754</td>\n",
       "      <td>0.469199</td>\n",
       "      <td>0.465107</td>\n",
       "    </tr>\n",
       "    <tr>\n",
       "      <th>Parch</th>\n",
       "      <td>0.168304</td>\n",
       "      <td>0.059367</td>\n",
       "      <td>-0.304770</td>\n",
       "      <td>0.472754</td>\n",
       "      <td>1.000000</td>\n",
       "      <td>0.457092</td>\n",
       "      <td>0.454375</td>\n",
       "    </tr>\n",
       "    <tr>\n",
       "      <th>Fare</th>\n",
       "      <td>0.248687</td>\n",
       "      <td>-0.596141</td>\n",
       "      <td>0.079934</td>\n",
       "      <td>0.469199</td>\n",
       "      <td>0.457092</td>\n",
       "      <td>1.000000</td>\n",
       "      <td>1.000000</td>\n",
       "    </tr>\n",
       "    <tr>\n",
       "      <th>fare_log</th>\n",
       "      <td>0.245045</td>\n",
       "      <td>-0.617123</td>\n",
       "      <td>0.092720</td>\n",
       "      <td>0.465107</td>\n",
       "      <td>0.454375</td>\n",
       "      <td>1.000000</td>\n",
       "      <td>1.000000</td>\n",
       "    </tr>\n",
       "  </tbody>\n",
       "</table>\n",
       "</div>"
      ],
      "text/plain": [
       "          Survived    Pclass       Age     SibSp     Parch      Fare  fare_log\n",
       "Survived  1.000000 -0.282739 -0.104960  0.059791  0.168304  0.248687  0.245045\n",
       "Pclass   -0.282739  1.000000 -0.359963  0.018470  0.059367 -0.596141 -0.617123\n",
       "Age      -0.104960 -0.359963  1.000000 -0.235822 -0.304770  0.079934  0.092720\n",
       "SibSp     0.059791  0.018470 -0.235822  1.000000  0.472754  0.469199  0.465107\n",
       "Parch     0.168304  0.059367 -0.304770  0.472754  1.000000  0.457092  0.454375\n",
       "Fare      0.248687 -0.596141  0.079934  0.469199  0.457092  1.000000  1.000000\n",
       "fare_log  0.245045 -0.617123  0.092720  0.465107  0.454375  1.000000  1.000000"
      ]
     },
     "execution_count": 52,
     "metadata": {},
     "output_type": "execute_result"
    }
   ],
   "source": [
    "corr = newdata.corr('spearman')\n",
    "corr"
   ]
  },
  {
   "cell_type": "code",
   "execution_count": 53,
   "id": "e0cf579a",
   "metadata": {
    "execution": {
     "iopub.execute_input": "2022-09-28T15:54:22.896929Z",
     "iopub.status.busy": "2022-09-28T15:54:22.895749Z",
     "iopub.status.idle": "2022-09-28T15:54:23.225732Z",
     "shell.execute_reply": "2022-09-28T15:54:23.224751Z"
    },
    "papermill": {
     "duration": 0.361884,
     "end_time": "2022-09-28T15:54:23.227951",
     "exception": false,
     "start_time": "2022-09-28T15:54:22.866067",
     "status": "completed"
    },
    "tags": []
   },
   "outputs": [
    {
     "data": {
      "text/plain": [
       "<AxesSubplot:>"
      ]
     },
     "execution_count": 53,
     "metadata": {},
     "output_type": "execute_result"
    },
    {
     "data": {
      "image/png": "[encoded data removed]",
      "text/plain": [
       "<Figure size 432x288 with 2 Axes>"
      ]
     },
     "metadata": {
      "needs_background": "light"
     },
     "output_type": "display_data"
    }
   ],
   "source": [
    "sns.heatmap(corr, annot=True)"
   ]
  },
  {
   "cell_type": "code",
   "execution_count": 54,
   "id": "99aa6540",
   "metadata": {
    "execution": {
     "iopub.execute_input": "2022-09-28T15:54:23.286132Z",
     "iopub.status.busy": "2022-09-28T15:54:23.285770Z",
     "iopub.status.idle": "2022-09-28T15:54:23.307006Z",
     "shell.execute_reply": "2022-09-28T15:54:23.305884Z"
    },
    "papermill": {
     "duration": 0.053077,
     "end_time": "2022-09-28T15:54:23.308952",
     "exception": false,
     "start_time": "2022-09-28T15:54:23.255875",
     "status": "completed"
    },
    "tags": []
   },
   "outputs": [
    {
     "data": {
      "text/html": [
       "<div>\n",
       "<style scoped>\n",
       "    .dataframe tbody tr th:only-of-type {\n",
       "        vertical-align: middle;\n",
       "    }\n",
       "\n",
       "    .dataframe tbody tr th {\n",
       "        vertical-align: top;\n",
       "    }\n",
       "\n",
       "    .dataframe thead th {\n",
       "        text-align: right;\n",
       "    }\n",
       "</style>\n",
       "<table border=\"1\" class=\"dataframe\">\n",
       "  <thead>\n",
       "    <tr style=\"text-align: right;\">\n",
       "      <th></th>\n",
       "      <th>Survived</th>\n",
       "      <th>Pclass</th>\n",
       "      <th>Age</th>\n",
       "      <th>SibSp</th>\n",
       "      <th>Parch</th>\n",
       "      <th>Fare</th>\n",
       "      <th>fare_log</th>\n",
       "    </tr>\n",
       "  </thead>\n",
       "  <tbody>\n",
       "    <tr>\n",
       "      <th>Survived</th>\n",
       "      <td>1.000000</td>\n",
       "      <td>-0.270918</td>\n",
       "      <td>-0.086662</td>\n",
       "      <td>0.057834</td>\n",
       "      <td>0.162771</td>\n",
       "      <td>0.204927</td>\n",
       "      <td>0.201955</td>\n",
       "    </tr>\n",
       "    <tr>\n",
       "      <th>Pclass</th>\n",
       "      <td>-0.270918</td>\n",
       "      <td>1.000000</td>\n",
       "      <td>-0.287199</td>\n",
       "      <td>0.018169</td>\n",
       "      <td>0.055773</td>\n",
       "      <td>-0.502663</td>\n",
       "      <td>-0.518887</td>\n",
       "    </tr>\n",
       "    <tr>\n",
       "      <th>Age</th>\n",
       "      <td>-0.086662</td>\n",
       "      <td>-0.287199</td>\n",
       "      <td>1.000000</td>\n",
       "      <td>-0.186571</td>\n",
       "      <td>-0.242615</td>\n",
       "      <td>0.058565</td>\n",
       "      <td>0.067951</td>\n",
       "    </tr>\n",
       "    <tr>\n",
       "      <th>SibSp</th>\n",
       "      <td>0.057834</td>\n",
       "      <td>0.018169</td>\n",
       "      <td>-0.186571</td>\n",
       "      <td>1.000000</td>\n",
       "      <td>0.445959</td>\n",
       "      <td>0.377850</td>\n",
       "      <td>0.374461</td>\n",
       "    </tr>\n",
       "    <tr>\n",
       "      <th>Parch</th>\n",
       "      <td>0.162771</td>\n",
       "      <td>0.055773</td>\n",
       "      <td>-0.242615</td>\n",
       "      <td>0.445959</td>\n",
       "      <td>1.000000</td>\n",
       "      <td>0.368592</td>\n",
       "      <td>0.366317</td>\n",
       "    </tr>\n",
       "    <tr>\n",
       "      <th>Fare</th>\n",
       "      <td>0.204927</td>\n",
       "      <td>-0.502663</td>\n",
       "      <td>0.058565</td>\n",
       "      <td>0.377850</td>\n",
       "      <td>0.368592</td>\n",
       "      <td>1.000000</td>\n",
       "      <td>1.000000</td>\n",
       "    </tr>\n",
       "    <tr>\n",
       "      <th>fare_log</th>\n",
       "      <td>0.201955</td>\n",
       "      <td>-0.518887</td>\n",
       "      <td>0.067951</td>\n",
       "      <td>0.374461</td>\n",
       "      <td>0.366317</td>\n",
       "      <td>1.000000</td>\n",
       "      <td>1.000000</td>\n",
       "    </tr>\n",
       "  </tbody>\n",
       "</table>\n",
       "</div>"
      ],
      "text/plain": [
       "          Survived    Pclass       Age     SibSp     Parch      Fare  fare_log\n",
       "Survived  1.000000 -0.270918 -0.086662  0.057834  0.162771  0.204927  0.201955\n",
       "Pclass   -0.270918  1.000000 -0.287199  0.018169  0.055773 -0.502663 -0.518887\n",
       "Age      -0.086662 -0.287199  1.000000 -0.186571 -0.242615  0.058565  0.067951\n",
       "SibSp     0.057834  0.018169 -0.186571  1.000000  0.445959  0.377850  0.374461\n",
       "Parch     0.162771  0.055773 -0.242615  0.445959  1.000000  0.368592  0.366317\n",
       "Fare      0.204927 -0.502663  0.058565  0.377850  0.368592  1.000000  1.000000\n",
       "fare_log  0.201955 -0.518887  0.067951  0.374461  0.366317  1.000000  1.000000"
      ]
     },
     "execution_count": 54,
     "metadata": {},
     "output_type": "execute_result"
    }
   ],
   "source": [
    "corr = newdata.corr('kendall')\n",
    "corr"
   ]
  },
  {
   "cell_type": "code",
   "execution_count": 55,
   "id": "ba9731dd",
   "metadata": {
    "execution": {
     "iopub.execute_input": "2022-09-28T15:54:23.368455Z",
     "iopub.status.busy": "2022-09-28T15:54:23.367934Z",
     "iopub.status.idle": "2022-09-28T15:54:23.694304Z",
     "shell.execute_reply": "2022-09-28T15:54:23.693596Z"
    },
    "papermill": {
     "duration": 0.357509,
     "end_time": "2022-09-28T15:54:23.695997",
     "exception": false,
     "start_time": "2022-09-28T15:54:23.338488",
     "status": "completed"
    },
    "tags": []
   },
   "outputs": [
    {
     "data": {
      "text/plain": [
       "<AxesSubplot:>"
      ]
     },
     "execution_count": 55,
     "metadata": {},
     "output_type": "execute_result"
    },
    {
     "data": {
      "image/png": "[encoded data removed]",
      "text/plain": [
       "<Figure size 432x288 with 2 Axes>"
      ]
     },
     "metadata": {
      "needs_background": "light"
     },
     "output_type": "display_data"
    }
   ],
   "source": [
    "sns.heatmap(corr, annot=True)"
   ]
  },
  {
   "cell_type": "code",
   "execution_count": 56,
   "id": "39093639",
   "metadata": {
    "execution": {
     "iopub.execute_input": "2022-09-28T15:54:23.756708Z",
     "iopub.status.busy": "2022-09-28T15:54:23.756069Z",
     "iopub.status.idle": "2022-09-28T15:54:24.110057Z",
     "shell.execute_reply": "2022-09-28T15:54:24.108786Z"
    },
    "papermill": {
     "duration": 0.386569,
     "end_time": "2022-09-28T15:54:24.112319",
     "exception": false,
     "start_time": "2022-09-28T15:54:23.725750",
     "status": "completed"
    },
    "tags": []
   },
   "outputs": [
    {
     "data": {
      "text/plain": [
       "<seaborn.axisgrid.FacetGrid at 0x7f5c24a1de10>"
      ]
     },
     "execution_count": 56,
     "metadata": {},
     "output_type": "execute_result"
    },
    {
     "data": {
      "image/png": "[encoded data removed]",
      "text/plain": [
       "<Figure size 430.5x360 with 1 Axes>"
      ]
     },
     "metadata": {
      "needs_background": "light"
     },
     "output_type": "display_data"
    }
   ],
   "source": [
    "sns.relplot(x='Age',y='Fare', hue='Sex', data=newdata)"
   ]
  },
  {
   "cell_type": "code",
   "execution_count": 57,
   "id": "83a1e1d5",
   "metadata": {
    "execution": {
     "iopub.execute_input": "2022-09-28T15:54:24.173112Z",
     "iopub.status.busy": "2022-09-28T15:54:24.172751Z",
     "iopub.status.idle": "2022-09-28T15:54:24.363565Z",
     "shell.execute_reply": "2022-09-28T15:54:24.362314Z"
    },
    "papermill": {
     "duration": 0.223784,
     "end_time": "2022-09-28T15:54:24.365803",
     "exception": false,
     "start_time": "2022-09-28T15:54:24.142019",
     "status": "completed"
    },
    "tags": []
   },
   "outputs": [
    {
     "data": {
      "text/plain": [
       "<seaborn.axisgrid.FacetGrid at 0x7f5c248591d0>"
      ]
     },
     "execution_count": 57,
     "metadata": {},
     "output_type": "execute_result"
    },
    {
     "data": {
      "image/png": "[encoded data removed]",
      "text/plain": [
       "<Figure size 360x360 with 1 Axes>"
      ]
     },
     "metadata": {
      "needs_background": "light"
     },
     "output_type": "display_data"
    }
   ],
   "source": [
    "sns.catplot(x='Sex',y='Age', hue='Sex', data=newdata, kind='box')"
   ]
  },
  {
   "cell_type": "code",
   "execution_count": 58,
   "id": "1a5388ba",
   "metadata": {
    "execution": {
     "iopub.execute_input": "2022-09-28T15:54:24.427012Z",
     "iopub.status.busy": "2022-09-28T15:54:24.426652Z",
     "iopub.status.idle": "2022-09-28T15:54:24.758622Z",
     "shell.execute_reply": "2022-09-28T15:54:24.757770Z"
    },
    "papermill": {
     "duration": 0.364879,
     "end_time": "2022-09-28T15:54:24.760562",
     "exception": false,
     "start_time": "2022-09-28T15:54:24.395683",
     "status": "completed"
    },
    "tags": []
   },
   "outputs": [
    {
     "data": {
      "text/plain": [
       "<seaborn.axisgrid.FacetGrid at 0x7f5c248454d0>"
      ]
     },
     "execution_count": 58,
     "metadata": {},
     "output_type": "execute_result"
    },
    {
     "data": {
      "image/png": "[encoded data removed]",
      "text/plain": [
       "<Figure size 360x360 with 1 Axes>"
      ]
     },
     "metadata": {
      "needs_background": "light"
     },
     "output_type": "display_data"
    }
   ],
   "source": [
    "sns.catplot(x='Sex', y='fare_log', hue='Sex', data=newdata, kind='box')"
   ]
  },
  {
   "cell_type": "code",
   "execution_count": 59,
   "id": "ee27c04a",
   "metadata": {
    "execution": {
     "iopub.execute_input": "2022-09-28T15:54:24.823230Z",
     "iopub.status.busy": "2022-09-28T15:54:24.822866Z",
     "iopub.status.idle": "2022-09-28T15:54:24.832740Z",
     "shell.execute_reply": "2022-09-28T15:54:24.831848Z"
    },
    "papermill": {
     "duration": 0.043489,
     "end_time": "2022-09-28T15:54:24.834445",
     "exception": false,
     "start_time": "2022-09-28T15:54:24.790956",
     "status": "completed"
    },
    "tags": []
   },
   "outputs": [
    {
     "data": {
      "text/html": [
       "<div>\n",
       "<style scoped>\n",
       "    .dataframe tbody tr th:only-of-type {\n",
       "        vertical-align: middle;\n",
       "    }\n",
       "\n",
       "    .dataframe tbody tr th {\n",
       "        vertical-align: top;\n",
       "    }\n",
       "\n",
       "    .dataframe thead th {\n",
       "        text-align: right;\n",
       "    }\n",
       "</style>\n",
       "<table border=\"1\" class=\"dataframe\">\n",
       "  <thead>\n",
       "    <tr style=\"text-align: right;\">\n",
       "      <th></th>\n",
       "      <th>female</th>\n",
       "      <th>male</th>\n",
       "    </tr>\n",
       "  </thead>\n",
       "  <tbody>\n",
       "    <tr>\n",
       "      <th>0</th>\n",
       "      <td>0</td>\n",
       "      <td>1</td>\n",
       "    </tr>\n",
       "    <tr>\n",
       "      <th>1</th>\n",
       "      <td>1</td>\n",
       "      <td>0</td>\n",
       "    </tr>\n",
       "    <tr>\n",
       "      <th>2</th>\n",
       "      <td>1</td>\n",
       "      <td>0</td>\n",
       "    </tr>\n",
       "    <tr>\n",
       "      <th>3</th>\n",
       "      <td>1</td>\n",
       "      <td>0</td>\n",
       "    </tr>\n",
       "    <tr>\n",
       "      <th>4</th>\n",
       "      <td>0</td>\n",
       "      <td>1</td>\n",
       "    </tr>\n",
       "  </tbody>\n",
       "</table>\n",
       "</div>"
      ],
      "text/plain": [
       "   female  male\n",
       "0       0     1\n",
       "1       1     0\n",
       "2       1     0\n",
       "3       1     0\n",
       "4       0     1"
      ]
     },
     "execution_count": 59,
     "metadata": {},
     "output_type": "execute_result"
    }
   ],
   "source": [
    " \n",
    "# Printing Data\n",
    "data.head(4)\n",
    "sex=pd.get_dummies(data['Sex'])\n",
    "sex.head()\n"
   ]
  },
  {
   "cell_type": "code",
   "execution_count": 60,
   "id": "dc20b642",
   "metadata": {
    "execution": {
     "iopub.execute_input": "2022-09-28T15:54:24.897608Z",
     "iopub.status.busy": "2022-09-28T15:54:24.897055Z",
     "iopub.status.idle": "2022-09-28T15:54:24.905319Z",
     "shell.execute_reply": "2022-09-28T15:54:24.904696Z"
    },
    "papermill": {
     "duration": 0.041608,
     "end_time": "2022-09-28T15:54:24.907082",
     "exception": false,
     "start_time": "2022-09-28T15:54:24.865474",
     "status": "completed"
    },
    "tags": []
   },
   "outputs": [
    {
     "data": {
      "text/html": [
       "<div>\n",
       "<style scoped>\n",
       "    .dataframe tbody tr th:only-of-type {\n",
       "        vertical-align: middle;\n",
       "    }\n",
       "\n",
       "    .dataframe tbody tr th {\n",
       "        vertical-align: top;\n",
       "    }\n",
       "\n",
       "    .dataframe thead th {\n",
       "        text-align: right;\n",
       "    }\n",
       "</style>\n",
       "<table border=\"1\" class=\"dataframe\">\n",
       "  <thead>\n",
       "    <tr style=\"text-align: right;\">\n",
       "      <th></th>\n",
       "      <th>male</th>\n",
       "    </tr>\n",
       "  </thead>\n",
       "  <tbody>\n",
       "    <tr>\n",
       "      <th>0</th>\n",
       "      <td>1</td>\n",
       "    </tr>\n",
       "    <tr>\n",
       "      <th>1</th>\n",
       "      <td>0</td>\n",
       "    </tr>\n",
       "    <tr>\n",
       "      <th>2</th>\n",
       "      <td>0</td>\n",
       "    </tr>\n",
       "    <tr>\n",
       "      <th>3</th>\n",
       "      <td>0</td>\n",
       "    </tr>\n",
       "    <tr>\n",
       "      <th>4</th>\n",
       "      <td>1</td>\n",
       "    </tr>\n",
       "  </tbody>\n",
       "</table>\n",
       "</div>"
      ],
      "text/plain": [
       "   male\n",
       "0     1\n",
       "1     0\n",
       "2     0\n",
       "3     0\n",
       "4     1"
      ]
     },
     "execution_count": 60,
     "metadata": {},
     "output_type": "execute_result"
    }
   ],
   "source": [
    "sex=pd.get_dummies(data['Sex'],drop_first=True)  # Dropping the first column\n",
    "sex.head(5)"
   ]
  },
  {
   "cell_type": "code",
   "execution_count": 61,
   "id": "6453c0da",
   "metadata": {
    "execution": {
     "iopub.execute_input": "2022-09-28T15:54:24.970622Z",
     "iopub.status.busy": "2022-09-28T15:54:24.970079Z",
     "iopub.status.idle": "2022-09-28T15:54:24.978622Z",
     "shell.execute_reply": "2022-09-28T15:54:24.977700Z"
    },
    "papermill": {
     "duration": 0.042343,
     "end_time": "2022-09-28T15:54:24.980372",
     "exception": false,
     "start_time": "2022-09-28T15:54:24.938029",
     "status": "completed"
    },
    "tags": []
   },
   "outputs": [
    {
     "data": {
      "text/html": [
       "<div>\n",
       "<style scoped>\n",
       "    .dataframe tbody tr th:only-of-type {\n",
       "        vertical-align: middle;\n",
       "    }\n",
       "\n",
       "    .dataframe tbody tr th {\n",
       "        vertical-align: top;\n",
       "    }\n",
       "\n",
       "    .dataframe thead th {\n",
       "        text-align: right;\n",
       "    }\n",
       "</style>\n",
       "<table border=\"1\" class=\"dataframe\">\n",
       "  <thead>\n",
       "    <tr style=\"text-align: right;\">\n",
       "      <th></th>\n",
       "      <th>1</th>\n",
       "      <th>2</th>\n",
       "      <th>3</th>\n",
       "    </tr>\n",
       "  </thead>\n",
       "  <tbody>\n",
       "    <tr>\n",
       "      <th>0</th>\n",
       "      <td>0</td>\n",
       "      <td>0</td>\n",
       "      <td>1</td>\n",
       "    </tr>\n",
       "    <tr>\n",
       "      <th>1</th>\n",
       "      <td>1</td>\n",
       "      <td>0</td>\n",
       "      <td>0</td>\n",
       "    </tr>\n",
       "    <tr>\n",
       "      <th>2</th>\n",
       "      <td>0</td>\n",
       "      <td>0</td>\n",
       "      <td>1</td>\n",
       "    </tr>\n",
       "    <tr>\n",
       "      <th>3</th>\n",
       "      <td>1</td>\n",
       "      <td>0</td>\n",
       "      <td>0</td>\n",
       "    </tr>\n",
       "    <tr>\n",
       "      <th>4</th>\n",
       "      <td>0</td>\n",
       "      <td>0</td>\n",
       "      <td>1</td>\n",
       "    </tr>\n",
       "  </tbody>\n",
       "</table>\n",
       "</div>"
      ],
      "text/plain": [
       "   1  2  3\n",
       "0  0  0  1\n",
       "1  1  0  0\n",
       "2  0  0  1\n",
       "3  1  0  0\n",
       "4  0  0  1"
      ]
     },
     "execution_count": 61,
     "metadata": {},
     "output_type": "execute_result"
    }
   ],
   "source": [
    "# Passenger Class\n",
    "pcl=pd.get_dummies(data['Pclass'])\n",
    "pcl.head(5)\n"
   ]
  },
  {
   "cell_type": "code",
   "execution_count": 62,
   "id": "13a0d9ac",
   "metadata": {
    "execution": {
     "iopub.execute_input": "2022-09-28T15:54:25.044951Z",
     "iopub.status.busy": "2022-09-28T15:54:25.044391Z",
     "iopub.status.idle": "2022-09-28T15:54:25.052765Z",
     "shell.execute_reply": "2022-09-28T15:54:25.051766Z"
    },
    "papermill": {
     "duration": 0.042689,
     "end_time": "2022-09-28T15:54:25.054539",
     "exception": false,
     "start_time": "2022-09-28T15:54:25.011850",
     "status": "completed"
    },
    "tags": []
   },
   "outputs": [
    {
     "data": {
      "text/html": [
       "<div>\n",
       "<style scoped>\n",
       "    .dataframe tbody tr th:only-of-type {\n",
       "        vertical-align: middle;\n",
       "    }\n",
       "\n",
       "    .dataframe tbody tr th {\n",
       "        vertical-align: top;\n",
       "    }\n",
       "\n",
       "    .dataframe thead th {\n",
       "        text-align: right;\n",
       "    }\n",
       "</style>\n",
       "<table border=\"1\" class=\"dataframe\">\n",
       "  <thead>\n",
       "    <tr style=\"text-align: right;\">\n",
       "      <th></th>\n",
       "      <th>2</th>\n",
       "      <th>3</th>\n",
       "    </tr>\n",
       "  </thead>\n",
       "  <tbody>\n",
       "    <tr>\n",
       "      <th>0</th>\n",
       "      <td>0</td>\n",
       "      <td>1</td>\n",
       "    </tr>\n",
       "    <tr>\n",
       "      <th>1</th>\n",
       "      <td>0</td>\n",
       "      <td>0</td>\n",
       "    </tr>\n",
       "    <tr>\n",
       "      <th>2</th>\n",
       "      <td>0</td>\n",
       "      <td>1</td>\n",
       "    </tr>\n",
       "    <tr>\n",
       "      <th>3</th>\n",
       "      <td>0</td>\n",
       "      <td>0</td>\n",
       "    </tr>\n",
       "    <tr>\n",
       "      <th>4</th>\n",
       "      <td>0</td>\n",
       "      <td>1</td>\n",
       "    </tr>\n",
       "  </tbody>\n",
       "</table>\n",
       "</div>"
      ],
      "text/plain": [
       "   2  3\n",
       "0  0  1\n",
       "1  0  0\n",
       "2  0  1\n",
       "3  0  0\n",
       "4  0  1"
      ]
     },
     "execution_count": 62,
     "metadata": {},
     "output_type": "execute_result"
    }
   ],
   "source": [
    "pcl=pd.get_dummies(data['Pclass'],drop_first=True)\n",
    "pcl.head(5)"
   ]
  },
  {
   "cell_type": "code",
   "execution_count": 63,
   "id": "f9c7256d",
   "metadata": {
    "execution": {
     "iopub.execute_input": "2022-09-28T15:54:25.118415Z",
     "iopub.status.busy": "2022-09-28T15:54:25.117899Z",
     "iopub.status.idle": "2022-09-28T15:54:25.126628Z",
     "shell.execute_reply": "2022-09-28T15:54:25.125713Z"
    },
    "papermill": {
     "duration": 0.04326,
     "end_time": "2022-09-28T15:54:25.128816",
     "exception": false,
     "start_time": "2022-09-28T15:54:25.085556",
     "status": "completed"
    },
    "tags": []
   },
   "outputs": [
    {
     "data": {
      "text/html": [
       "<div>\n",
       "<style scoped>\n",
       "    .dataframe tbody tr th:only-of-type {\n",
       "        vertical-align: middle;\n",
       "    }\n",
       "\n",
       "    .dataframe tbody tr th {\n",
       "        vertical-align: top;\n",
       "    }\n",
       "\n",
       "    .dataframe thead th {\n",
       "        text-align: right;\n",
       "    }\n",
       "</style>\n",
       "<table border=\"1\" class=\"dataframe\">\n",
       "  <thead>\n",
       "    <tr style=\"text-align: right;\">\n",
       "      <th></th>\n",
       "      <th>C</th>\n",
       "      <th>Q</th>\n",
       "      <th>S</th>\n",
       "    </tr>\n",
       "  </thead>\n",
       "  <tbody>\n",
       "    <tr>\n",
       "      <th>0</th>\n",
       "      <td>0</td>\n",
       "      <td>0</td>\n",
       "      <td>1</td>\n",
       "    </tr>\n",
       "    <tr>\n",
       "      <th>1</th>\n",
       "      <td>1</td>\n",
       "      <td>0</td>\n",
       "      <td>0</td>\n",
       "    </tr>\n",
       "    <tr>\n",
       "      <th>2</th>\n",
       "      <td>0</td>\n",
       "      <td>0</td>\n",
       "      <td>1</td>\n",
       "    </tr>\n",
       "    <tr>\n",
       "      <th>3</th>\n",
       "      <td>0</td>\n",
       "      <td>0</td>\n",
       "      <td>1</td>\n",
       "    </tr>\n",
       "    <tr>\n",
       "      <th>4</th>\n",
       "      <td>0</td>\n",
       "      <td>0</td>\n",
       "      <td>1</td>\n",
       "    </tr>\n",
       "  </tbody>\n",
       "</table>\n",
       "</div>"
      ],
      "text/plain": [
       "   C  Q  S\n",
       "0  0  0  1\n",
       "1  1  0  0\n",
       "2  0  0  1\n",
       "3  0  0  1\n",
       "4  0  0  1"
      ]
     },
     "execution_count": 63,
     "metadata": {},
     "output_type": "execute_result"
    }
   ],
   "source": [
    "# Embarked S, C and Q\n",
    "embark=pd.get_dummies(data['Embarked'])\n",
    "embark.head(5)\n"
   ]
  },
  {
   "cell_type": "code",
   "execution_count": 64,
   "id": "105af3d7",
   "metadata": {
    "execution": {
     "iopub.execute_input": "2022-09-28T15:54:25.193308Z",
     "iopub.status.busy": "2022-09-28T15:54:25.192767Z",
     "iopub.status.idle": "2022-09-28T15:54:25.202608Z",
     "shell.execute_reply": "2022-09-28T15:54:25.201545Z"
    },
    "papermill": {
     "duration": 0.044358,
     "end_time": "2022-09-28T15:54:25.204377",
     "exception": false,
     "start_time": "2022-09-28T15:54:25.160019",
     "status": "completed"
    },
    "tags": []
   },
   "outputs": [
    {
     "data": {
      "text/html": [
       "<div>\n",
       "<style scoped>\n",
       "    .dataframe tbody tr th:only-of-type {\n",
       "        vertical-align: middle;\n",
       "    }\n",
       "\n",
       "    .dataframe tbody tr th {\n",
       "        vertical-align: top;\n",
       "    }\n",
       "\n",
       "    .dataframe thead th {\n",
       "        text-align: right;\n",
       "    }\n",
       "</style>\n",
       "<table border=\"1\" class=\"dataframe\">\n",
       "  <thead>\n",
       "    <tr style=\"text-align: right;\">\n",
       "      <th></th>\n",
       "      <th>Q</th>\n",
       "      <th>S</th>\n",
       "    </tr>\n",
       "  </thead>\n",
       "  <tbody>\n",
       "    <tr>\n",
       "      <th>0</th>\n",
       "      <td>0</td>\n",
       "      <td>1</td>\n",
       "    </tr>\n",
       "    <tr>\n",
       "      <th>1</th>\n",
       "      <td>0</td>\n",
       "      <td>0</td>\n",
       "    </tr>\n",
       "    <tr>\n",
       "      <th>2</th>\n",
       "      <td>0</td>\n",
       "      <td>1</td>\n",
       "    </tr>\n",
       "    <tr>\n",
       "      <th>3</th>\n",
       "      <td>0</td>\n",
       "      <td>1</td>\n",
       "    </tr>\n",
       "    <tr>\n",
       "      <th>4</th>\n",
       "      <td>0</td>\n",
       "      <td>1</td>\n",
       "    </tr>\n",
       "  </tbody>\n",
       "</table>\n",
       "</div>"
      ],
      "text/plain": [
       "   Q  S\n",
       "0  0  1\n",
       "1  0  0\n",
       "2  0  1\n",
       "3  0  1\n",
       "4  0  1"
      ]
     },
     "execution_count": 64,
     "metadata": {},
     "output_type": "execute_result"
    }
   ],
   "source": [
    "embark=pd.get_dummies(data['Embarked'],drop_first=True)\n",
    "embark.head(5)"
   ]
  },
  {
   "cell_type": "code",
   "execution_count": 65,
   "id": "782d6745",
   "metadata": {
    "execution": {
     "iopub.execute_input": "2022-09-28T15:54:25.267862Z",
     "iopub.status.busy": "2022-09-28T15:54:25.266770Z",
     "iopub.status.idle": "2022-09-28T15:54:25.283858Z",
     "shell.execute_reply": "2022-09-28T15:54:25.283049Z"
    },
    "papermill": {
     "duration": 0.050457,
     "end_time": "2022-09-28T15:54:25.285699",
     "exception": false,
     "start_time": "2022-09-28T15:54:25.235242",
     "status": "completed"
    },
    "tags": []
   },
   "outputs": [
    {
     "data": {
      "text/html": [
       "<div>\n",
       "<style scoped>\n",
       "    .dataframe tbody tr th:only-of-type {\n",
       "        vertical-align: middle;\n",
       "    }\n",
       "\n",
       "    .dataframe tbody tr th {\n",
       "        vertical-align: top;\n",
       "    }\n",
       "\n",
       "    .dataframe thead th {\n",
       "        text-align: right;\n",
       "    }\n",
       "</style>\n",
       "<table border=\"1\" class=\"dataframe\">\n",
       "  <thead>\n",
       "    <tr style=\"text-align: right;\">\n",
       "      <th></th>\n",
       "      <th>PassengerId</th>\n",
       "      <th>Survived</th>\n",
       "      <th>Pclass</th>\n",
       "      <th>Name</th>\n",
       "      <th>Sex</th>\n",
       "      <th>Age</th>\n",
       "      <th>SibSp</th>\n",
       "      <th>Parch</th>\n",
       "      <th>Ticket</th>\n",
       "      <th>Fare</th>\n",
       "      <th>Cabin</th>\n",
       "      <th>Embarked</th>\n",
       "      <th>male</th>\n",
       "      <th>Q</th>\n",
       "      <th>S</th>\n",
       "      <th>2</th>\n",
       "      <th>3</th>\n",
       "    </tr>\n",
       "  </thead>\n",
       "  <tbody>\n",
       "    <tr>\n",
       "      <th>0</th>\n",
       "      <td>1</td>\n",
       "      <td>0</td>\n",
       "      <td>3</td>\n",
       "      <td>Braund, Mr. Owen Harris</td>\n",
       "      <td>male</td>\n",
       "      <td>True</td>\n",
       "      <td>1</td>\n",
       "      <td>0</td>\n",
       "      <td>A/5 21171</td>\n",
       "      <td>7.2500</td>\n",
       "      <td>NaN</td>\n",
       "      <td>S</td>\n",
       "      <td>1</td>\n",
       "      <td>0</td>\n",
       "      <td>1</td>\n",
       "      <td>0</td>\n",
       "      <td>1</td>\n",
       "    </tr>\n",
       "    <tr>\n",
       "      <th>1</th>\n",
       "      <td>2</td>\n",
       "      <td>1</td>\n",
       "      <td>1</td>\n",
       "      <td>Cumings, Mrs. John Bradley (Florence Briggs Th...</td>\n",
       "      <td>female</td>\n",
       "      <td>True</td>\n",
       "      <td>1</td>\n",
       "      <td>0</td>\n",
       "      <td>PC 17599</td>\n",
       "      <td>71.2833</td>\n",
       "      <td>C85</td>\n",
       "      <td>C</td>\n",
       "      <td>0</td>\n",
       "      <td>0</td>\n",
       "      <td>0</td>\n",
       "      <td>0</td>\n",
       "      <td>0</td>\n",
       "    </tr>\n",
       "    <tr>\n",
       "      <th>2</th>\n",
       "      <td>3</td>\n",
       "      <td>1</td>\n",
       "      <td>3</td>\n",
       "      <td>Heikkinen, Miss. Laina</td>\n",
       "      <td>female</td>\n",
       "      <td>True</td>\n",
       "      <td>0</td>\n",
       "      <td>0</td>\n",
       "      <td>STON/O2. 3101282</td>\n",
       "      <td>7.9250</td>\n",
       "      <td>NaN</td>\n",
       "      <td>S</td>\n",
       "      <td>0</td>\n",
       "      <td>0</td>\n",
       "      <td>1</td>\n",
       "      <td>0</td>\n",
       "      <td>1</td>\n",
       "    </tr>\n",
       "    <tr>\n",
       "      <th>3</th>\n",
       "      <td>4</td>\n",
       "      <td>1</td>\n",
       "      <td>1</td>\n",
       "      <td>Futrelle, Mrs. Jacques Heath (Lily May Peel)</td>\n",
       "      <td>female</td>\n",
       "      <td>True</td>\n",
       "      <td>1</td>\n",
       "      <td>0</td>\n",
       "      <td>113803</td>\n",
       "      <td>53.1000</td>\n",
       "      <td>C123</td>\n",
       "      <td>S</td>\n",
       "      <td>0</td>\n",
       "      <td>0</td>\n",
       "      <td>1</td>\n",
       "      <td>0</td>\n",
       "      <td>0</td>\n",
       "    </tr>\n",
       "    <tr>\n",
       "      <th>4</th>\n",
       "      <td>5</td>\n",
       "      <td>0</td>\n",
       "      <td>3</td>\n",
       "      <td>Allen, Mr. William Henry</td>\n",
       "      <td>male</td>\n",
       "      <td>True</td>\n",
       "      <td>0</td>\n",
       "      <td>0</td>\n",
       "      <td>373450</td>\n",
       "      <td>8.0500</td>\n",
       "      <td>NaN</td>\n",
       "      <td>S</td>\n",
       "      <td>1</td>\n",
       "      <td>0</td>\n",
       "      <td>1</td>\n",
       "      <td>0</td>\n",
       "      <td>1</td>\n",
       "    </tr>\n",
       "  </tbody>\n",
       "</table>\n",
       "</div>"
      ],
      "text/plain": [
       "   PassengerId  Survived  Pclass  \\\n",
       "0            1         0       3   \n",
       "1            2         1       1   \n",
       "2            3         1       3   \n",
       "3            4         1       1   \n",
       "4            5         0       3   \n",
       "\n",
       "                                                Name     Sex   Age  SibSp  \\\n",
       "0                            Braund, Mr. Owen Harris    male  True      1   \n",
       "1  Cumings, Mrs. John Bradley (Florence Briggs Th...  female  True      1   \n",
       "2                             Heikkinen, Miss. Laina  female  True      0   \n",
       "3       Futrelle, Mrs. Jacques Heath (Lily May Peel)  female  True      1   \n",
       "4                           Allen, Mr. William Henry    male  True      0   \n",
       "\n",
       "   Parch            Ticket     Fare Cabin Embarked  male  Q  S  2  3  \n",
       "0      0         A/5 21171   7.2500   NaN        S     1  0  1  0  1  \n",
       "1      0          PC 17599  71.2833   C85        C     0  0  0  0  0  \n",
       "2      0  STON/O2. 3101282   7.9250   NaN        S     0  0  1  0  1  \n",
       "3      0            113803  53.1000  C123        S     0  0  1  0  0  \n",
       "4      0            373450   8.0500   NaN        S     1  0  1  0  1  "
      ]
     },
     "execution_count": 65,
     "metadata": {},
     "output_type": "execute_result"
    }
   ],
   "source": [
    "# Concatenate all the new rows to Titanic Table Dataset\n",
    "data=pd.concat([data,sex,embark,pcl],axis=1)\n",
    "data.head(5)\n",
    "\n"
   ]
  },
  {
   "cell_type": "code",
   "execution_count": 66,
   "id": "83da3fd1",
   "metadata": {
    "execution": {
     "iopub.execute_input": "2022-09-28T15:54:25.350100Z",
     "iopub.status.busy": "2022-09-28T15:54:25.349707Z",
     "iopub.status.idle": "2022-09-28T15:54:25.355148Z",
     "shell.execute_reply": "2022-09-28T15:54:25.354536Z"
    },
    "papermill": {
     "duration": 0.039537,
     "end_time": "2022-09-28T15:54:25.356927",
     "exception": false,
     "start_time": "2022-09-28T15:54:25.317390",
     "status": "completed"
    },
    "tags": []
   },
   "outputs": [
    {
     "data": {
      "text/plain": [
       "Index(['PassengerId',    'Survived',      'Pclass',        'Name',\n",
       "               'Sex',         'Age',       'SibSp',       'Parch',\n",
       "            'Ticket',        'Fare',       'Cabin',    'Embarked',\n",
       "              'male',           'Q',           'S',             2,\n",
       "                   3],\n",
       "      dtype='object')"
      ]
     },
     "execution_count": 66,
     "metadata": {},
     "output_type": "execute_result"
    }
   ],
   "source": [
    "data.columns"
   ]
  },
  {
   "cell_type": "code",
   "execution_count": 67,
   "id": "d178d312",
   "metadata": {
    "execution": {
     "iopub.execute_input": "2022-09-28T15:54:25.421252Z",
     "iopub.status.busy": "2022-09-28T15:54:25.420890Z",
     "iopub.status.idle": "2022-09-28T15:54:25.434723Z",
     "shell.execute_reply": "2022-09-28T15:54:25.433872Z"
    },
    "papermill": {
     "duration": 0.048531,
     "end_time": "2022-09-28T15:54:25.436651",
     "exception": false,
     "start_time": "2022-09-28T15:54:25.388120",
     "status": "completed"
    },
    "tags": []
   },
   "outputs": [
    {
     "data": {
      "text/html": [
       "<div>\n",
       "<style scoped>\n",
       "    .dataframe tbody tr th:only-of-type {\n",
       "        vertical-align: middle;\n",
       "    }\n",
       "\n",
       "    .dataframe tbody tr th {\n",
       "        vertical-align: top;\n",
       "    }\n",
       "\n",
       "    .dataframe thead th {\n",
       "        text-align: right;\n",
       "    }\n",
       "</style>\n",
       "<table border=\"1\" class=\"dataframe\">\n",
       "  <thead>\n",
       "    <tr style=\"text-align: right;\">\n",
       "      <th></th>\n",
       "      <th>Survived</th>\n",
       "      <th>Age</th>\n",
       "      <th>SibSp</th>\n",
       "      <th>Parch</th>\n",
       "      <th>Cabin</th>\n",
       "      <th>male</th>\n",
       "      <th>Q</th>\n",
       "      <th>S</th>\n",
       "      <th>2</th>\n",
       "      <th>3</th>\n",
       "    </tr>\n",
       "  </thead>\n",
       "  <tbody>\n",
       "    <tr>\n",
       "      <th>0</th>\n",
       "      <td>0</td>\n",
       "      <td>True</td>\n",
       "      <td>1</td>\n",
       "      <td>0</td>\n",
       "      <td>NaN</td>\n",
       "      <td>1</td>\n",
       "      <td>0</td>\n",
       "      <td>1</td>\n",
       "      <td>0</td>\n",
       "      <td>1</td>\n",
       "    </tr>\n",
       "    <tr>\n",
       "      <th>1</th>\n",
       "      <td>1</td>\n",
       "      <td>True</td>\n",
       "      <td>1</td>\n",
       "      <td>0</td>\n",
       "      <td>C85</td>\n",
       "      <td>0</td>\n",
       "      <td>0</td>\n",
       "      <td>0</td>\n",
       "      <td>0</td>\n",
       "      <td>0</td>\n",
       "    </tr>\n",
       "    <tr>\n",
       "      <th>2</th>\n",
       "      <td>1</td>\n",
       "      <td>True</td>\n",
       "      <td>0</td>\n",
       "      <td>0</td>\n",
       "      <td>NaN</td>\n",
       "      <td>0</td>\n",
       "      <td>0</td>\n",
       "      <td>1</td>\n",
       "      <td>0</td>\n",
       "      <td>1</td>\n",
       "    </tr>\n",
       "    <tr>\n",
       "      <th>3</th>\n",
       "      <td>1</td>\n",
       "      <td>True</td>\n",
       "      <td>1</td>\n",
       "      <td>0</td>\n",
       "      <td>C123</td>\n",
       "      <td>0</td>\n",
       "      <td>0</td>\n",
       "      <td>1</td>\n",
       "      <td>0</td>\n",
       "      <td>0</td>\n",
       "    </tr>\n",
       "    <tr>\n",
       "      <th>4</th>\n",
       "      <td>0</td>\n",
       "      <td>True</td>\n",
       "      <td>0</td>\n",
       "      <td>0</td>\n",
       "      <td>NaN</td>\n",
       "      <td>1</td>\n",
       "      <td>0</td>\n",
       "      <td>1</td>\n",
       "      <td>0</td>\n",
       "      <td>1</td>\n",
       "    </tr>\n",
       "  </tbody>\n",
       "</table>\n",
       "</div>"
      ],
      "text/plain": [
       "   Survived   Age  SibSp  Parch Cabin  male  Q  S  2  3\n",
       "0         0  True      1      0   NaN     1  0  1  0  1\n",
       "1         1  True      1      0   C85     0  0  0  0  0\n",
       "2         1  True      0      0   NaN     0  0  1  0  1\n",
       "3         1  True      1      0  C123     0  0  1  0  0\n",
       "4         0  True      0      0   NaN     1  0  1  0  1"
      ]
     },
     "execution_count": 67,
     "metadata": {},
     "output_type": "execute_result"
    }
   ],
   "source": [
    "# Drop all the unwanted columns\n",
    "data.drop(['Sex','Name','PassengerId','Ticket','Embarked','Pclass','Fare'],axis=1,inplace=True)\n",
    "data.head(5)\n"
   ]
  },
  {
   "cell_type": "code",
   "execution_count": 68,
   "id": "caa474be",
   "metadata": {
    "execution": {
     "iopub.execute_input": "2022-09-28T15:54:25.500864Z",
     "iopub.status.busy": "2022-09-28T15:54:25.500244Z",
     "iopub.status.idle": "2022-09-28T15:54:25.506460Z",
     "shell.execute_reply": "2022-09-28T15:54:25.505454Z"
    },
    "papermill": {
     "duration": 0.04024,
     "end_time": "2022-09-28T15:54:25.508203",
     "exception": false,
     "start_time": "2022-09-28T15:54:25.467963",
     "status": "completed"
    },
    "tags": []
   },
   "outputs": [],
   "source": [
    "#Train and test the data\n",
    "X=data.drop(['Survived','Cabin','Age'],axis=1)\n",
    "Y=data['Survived']"
   ]
  },
  {
   "cell_type": "code",
   "execution_count": 69,
   "id": "7cfa587e",
   "metadata": {
    "execution": {
     "iopub.execute_input": "2022-09-28T15:54:25.571368Z",
     "iopub.status.busy": "2022-09-28T15:54:25.571006Z",
     "iopub.status.idle": "2022-09-28T15:54:25.583875Z",
     "shell.execute_reply": "2022-09-28T15:54:25.583023Z"
    },
    "papermill": {
     "duration": 0.046595,
     "end_time": "2022-09-28T15:54:25.585540",
     "exception": false,
     "start_time": "2022-09-28T15:54:25.538945",
     "status": "completed"
    },
    "tags": []
   },
   "outputs": [
    {
     "data": {
      "text/html": [
       "<div>\n",
       "<style scoped>\n",
       "    .dataframe tbody tr th:only-of-type {\n",
       "        vertical-align: middle;\n",
       "    }\n",
       "\n",
       "    .dataframe tbody tr th {\n",
       "        vertical-align: top;\n",
       "    }\n",
       "\n",
       "    .dataframe thead th {\n",
       "        text-align: right;\n",
       "    }\n",
       "</style>\n",
       "<table border=\"1\" class=\"dataframe\">\n",
       "  <thead>\n",
       "    <tr style=\"text-align: right;\">\n",
       "      <th></th>\n",
       "      <th>SibSp</th>\n",
       "      <th>Parch</th>\n",
       "      <th>male</th>\n",
       "      <th>Q</th>\n",
       "      <th>S</th>\n",
       "      <th>2</th>\n",
       "      <th>3</th>\n",
       "    </tr>\n",
       "  </thead>\n",
       "  <tbody>\n",
       "    <tr>\n",
       "      <th>0</th>\n",
       "      <td>1</td>\n",
       "      <td>0</td>\n",
       "      <td>1</td>\n",
       "      <td>0</td>\n",
       "      <td>1</td>\n",
       "      <td>0</td>\n",
       "      <td>1</td>\n",
       "    </tr>\n",
       "    <tr>\n",
       "      <th>1</th>\n",
       "      <td>1</td>\n",
       "      <td>0</td>\n",
       "      <td>0</td>\n",
       "      <td>0</td>\n",
       "      <td>0</td>\n",
       "      <td>0</td>\n",
       "      <td>0</td>\n",
       "    </tr>\n",
       "    <tr>\n",
       "      <th>2</th>\n",
       "      <td>0</td>\n",
       "      <td>0</td>\n",
       "      <td>0</td>\n",
       "      <td>0</td>\n",
       "      <td>1</td>\n",
       "      <td>0</td>\n",
       "      <td>1</td>\n",
       "    </tr>\n",
       "    <tr>\n",
       "      <th>3</th>\n",
       "      <td>1</td>\n",
       "      <td>0</td>\n",
       "      <td>0</td>\n",
       "      <td>0</td>\n",
       "      <td>1</td>\n",
       "      <td>0</td>\n",
       "      <td>0</td>\n",
       "    </tr>\n",
       "    <tr>\n",
       "      <th>4</th>\n",
       "      <td>0</td>\n",
       "      <td>0</td>\n",
       "      <td>1</td>\n",
       "      <td>0</td>\n",
       "      <td>1</td>\n",
       "      <td>0</td>\n",
       "      <td>1</td>\n",
       "    </tr>\n",
       "    <tr>\n",
       "      <th>...</th>\n",
       "      <td>...</td>\n",
       "      <td>...</td>\n",
       "      <td>...</td>\n",
       "      <td>...</td>\n",
       "      <td>...</td>\n",
       "      <td>...</td>\n",
       "      <td>...</td>\n",
       "    </tr>\n",
       "    <tr>\n",
       "      <th>886</th>\n",
       "      <td>0</td>\n",
       "      <td>0</td>\n",
       "      <td>1</td>\n",
       "      <td>0</td>\n",
       "      <td>1</td>\n",
       "      <td>1</td>\n",
       "      <td>0</td>\n",
       "    </tr>\n",
       "    <tr>\n",
       "      <th>887</th>\n",
       "      <td>0</td>\n",
       "      <td>0</td>\n",
       "      <td>0</td>\n",
       "      <td>0</td>\n",
       "      <td>1</td>\n",
       "      <td>0</td>\n",
       "      <td>0</td>\n",
       "    </tr>\n",
       "    <tr>\n",
       "      <th>888</th>\n",
       "      <td>1</td>\n",
       "      <td>2</td>\n",
       "      <td>0</td>\n",
       "      <td>0</td>\n",
       "      <td>1</td>\n",
       "      <td>0</td>\n",
       "      <td>1</td>\n",
       "    </tr>\n",
       "    <tr>\n",
       "      <th>889</th>\n",
       "      <td>0</td>\n",
       "      <td>0</td>\n",
       "      <td>1</td>\n",
       "      <td>0</td>\n",
       "      <td>0</td>\n",
       "      <td>0</td>\n",
       "      <td>0</td>\n",
       "    </tr>\n",
       "    <tr>\n",
       "      <th>890</th>\n",
       "      <td>0</td>\n",
       "      <td>0</td>\n",
       "      <td>1</td>\n",
       "      <td>1</td>\n",
       "      <td>0</td>\n",
       "      <td>0</td>\n",
       "      <td>1</td>\n",
       "    </tr>\n",
       "  </tbody>\n",
       "</table>\n",
       "<p>891 rows × 7 columns</p>\n",
       "</div>"
      ],
      "text/plain": [
       "     SibSp  Parch  male  Q  S  2  3\n",
       "0        1      0     1  0  1  0  1\n",
       "1        1      0     0  0  0  0  0\n",
       "2        0      0     0  0  1  0  1\n",
       "3        1      0     0  0  1  0  0\n",
       "4        0      0     1  0  1  0  1\n",
       "..     ...    ...   ... .. .. .. ..\n",
       "886      0      0     1  0  1  1  0\n",
       "887      0      0     0  0  1  0  0\n",
       "888      1      2     0  0  1  0  1\n",
       "889      0      0     1  0  0  0  0\n",
       "890      0      0     1  1  0  0  1\n",
       "\n",
       "[891 rows x 7 columns]"
      ]
     },
     "execution_count": 69,
     "metadata": {},
     "output_type": "execute_result"
    }
   ],
   "source": [
    "X\n"
   ]
  },
  {
   "cell_type": "code",
   "execution_count": 70,
   "id": "909076cc",
   "metadata": {
    "execution": {
     "iopub.execute_input": "2022-09-28T15:54:25.651648Z",
     "iopub.status.busy": "2022-09-28T15:54:25.651270Z",
     "iopub.status.idle": "2022-09-28T15:54:25.924172Z",
     "shell.execute_reply": "2022-09-28T15:54:25.922896Z"
    },
    "papermill": {
     "duration": 0.308576,
     "end_time": "2022-09-28T15:54:25.926398",
     "exception": false,
     "start_time": "2022-09-28T15:54:25.617822",
     "status": "completed"
    },
    "tags": []
   },
   "outputs": [
    {
     "name": "stderr",
     "output_type": "stream",
     "text": [
      "/opt/conda/lib/python3.7/site-packages/sklearn/utils/validation.py:1692: FutureWarning: Feature names only support names that are all strings. Got feature names with dtypes: ['int', 'str']. An error will be raised in 1.2.\n",
      "  FutureWarning,\n"
     ]
    },
    {
     "data": {
      "text/plain": [
       "LogisticRegression()"
      ]
     },
     "execution_count": 70,
     "metadata": {},
     "output_type": "execute_result"
    }
   ],
   "source": [
    "\n",
    "\n",
    "# Splitting data into training and testing\n",
    "from sklearn.model_selection import train_test_split\n",
    "x_train,x_test,y_train,y_test=train_test_split(X,Y,train_size=35,random_state=0)\n",
    "\n",
    "from sklearn.linear_model import LogisticRegression\n",
    "# Creating Instances\n",
    "logmodel=LogisticRegression()\n",
    "#Fit to the model\n",
    "logmodel.fit(x_train,y_train)\n"
   ]
  },
  {
   "cell_type": "code",
   "execution_count": 71,
   "id": "acbbe363",
   "metadata": {
    "execution": {
     "iopub.execute_input": "2022-09-28T15:54:25.991773Z",
     "iopub.status.busy": "2022-09-28T15:54:25.991343Z",
     "iopub.status.idle": "2022-09-28T15:54:26.005185Z",
     "shell.execute_reply": "2022-09-28T15:54:26.003898Z"
    },
    "papermill": {
     "duration": 0.050302,
     "end_time": "2022-09-28T15:54:26.008497",
     "exception": false,
     "start_time": "2022-09-28T15:54:25.958195",
     "status": "completed"
    },
    "tags": []
   },
   "outputs": [
    {
     "name": "stderr",
     "output_type": "stream",
     "text": [
      "/opt/conda/lib/python3.7/site-packages/sklearn/utils/validation.py:1692: FutureWarning: Feature names only support names that are all strings. Got feature names with dtypes: ['int', 'str']. An error will be raised in 1.2.\n",
      "  FutureWarning,\n"
     ]
    },
    {
     "data": {
      "text/plain": [
       "'              precision    recall  f1-score   support\\n\\n           0       0.84      0.67      0.74       534\\n           1       0.59      0.79      0.67       322\\n\\n    accuracy                           0.71       856\\n   macro avg       0.71      0.73      0.71       856\\nweighted avg       0.74      0.71      0.72       856\\n'"
      ]
     },
     "execution_count": 71,
     "metadata": {},
     "output_type": "execute_result"
    }
   ],
   "source": [
    "# PREDICTION\n",
    "predictions=logmodel.predict(x_test)\n",
    "# How my model is performing using the classifications Report\n",
    "from sklearn.metrics import classification_report\n",
    "classification_report(y_test,predictions)\n"
   ]
  },
  {
   "cell_type": "code",
   "execution_count": 72,
   "id": "a3634e68",
   "metadata": {
    "execution": {
     "iopub.execute_input": "2022-09-28T15:54:26.074702Z",
     "iopub.status.busy": "2022-09-28T15:54:26.074329Z",
     "iopub.status.idle": "2022-09-28T15:54:26.084542Z",
     "shell.execute_reply": "2022-09-28T15:54:26.083868Z"
    },
    "papermill": {
     "duration": 0.045178,
     "end_time": "2022-09-28T15:54:26.086300",
     "exception": false,
     "start_time": "2022-09-28T15:54:26.041122",
     "status": "completed"
    },
    "tags": []
   },
   "outputs": [
    {
     "data": {
      "text/plain": [
       "array([[356, 178],\n",
       "       [ 68, 254]])"
      ]
     },
     "execution_count": 72,
     "metadata": {},
     "output_type": "execute_result"
    }
   ],
   "source": [
    "from sklearn.metrics import confusion_matrix\n",
    "confusion_matrix(y_test,predictions)"
   ]
  }
 ],
 "metadata": {
  "kernelspec": {
   "display_name": "Python 3",
   "language": "python",
   "name": "python3"
  },
  "language_info": {
   "codemirror_mode": {
    "name": "ipython",
    "version": 3
   },
   "file_extension": ".py",
   "mimetype": "text/x-python",
   "name": "python",
   "nbconvert_exporter": "python",
   "pygments_lexer": "ipython3",
   "version": "3.7.12"
  },
  "papermill": {
   "default_parameters": {},
   "duration": 20.076453,
   "end_time": "2022-09-28T15:54:26.939802",
   "environment_variables": {},
   "exception": null,
   "input_path": "__notebook__.ipynb",
   "output_path": "__notebook__.ipynb",
   "parameters": {},
   "start_time": "2022-09-28T15:54:06.863349",
   "version": "2.3.4"
  }
 },
 "nbformat": 4,
 "nbformat_minor": 5
}
